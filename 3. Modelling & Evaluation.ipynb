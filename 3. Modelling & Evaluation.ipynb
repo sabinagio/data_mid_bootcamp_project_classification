{
  "cells": [
    {
      "cell_type": "code",
      "execution_count": 44,
      "metadata": {
        "id": "HdH9WPH-k4z1"
      },
      "outputs": [],
      "source": [
        "# Import libraries\n",
        "import pandas as pd\n",
        "import numpy as np\n",
        "import matplotlib.pyplot as plt\n",
        "import seaborn as sns\n",
        "import scipy.stats as stats\n",
        "from scipy.special import inv_boxcox       # to use absolute value\n",
        "from sklearn.preprocessing import MinMaxScaler\n",
        "from sklearn.neighbors import KNeighborsClassifier\n",
        "from imblearn.over_sampling import SMOTE\n",
        "\n",
        "\n",
        "from sklearn.model_selection import train_test_split\n",
        "from sklearn.linear_model import LogisticRegression\n",
        "from sklearn.metrics import confusion_matrix\n",
        "from imblearn.under_sampling import TomekLinks\n",
        "\n",
        "pd.set_option('display.max_columns', None)\n",
        "pd.set_option('display.max_rows', None)"
      ]
    },
    {
      "cell_type": "code",
      "execution_count": 2,
      "metadata": {
        "id": "hcd6AUb5xKrS"
      },
      "outputs": [],
      "source": [
        "# Read cleanest data\n",
        "data = pd.read_csv('creditcardmarketing_post_cleaning.csv', index_col='customer_number')"
      ]
    },
    {
      "cell_type": "markdown",
      "metadata": {
        "id": "6xH39Vqzk4z5"
      },
      "source": [
        "### 3. Modelling & Evaluation"
      ]
    },
    {
      "cell_type": "markdown",
      "metadata": {
        "id": "DH-vhaYOAmWU"
      },
      "source": [
        "#### 3.1. Define scaling, normalizing & encoding functions"
      ]
    },
    {
      "cell_type": "markdown",
      "metadata": {
        "id": "4rCSVCOjAimw"
      },
      "source": [
        "##### 3.1.1. Data Scaling"
      ]
    },
    {
      "cell_type": "code",
      "execution_count": 3,
      "metadata": {
        "id": "p_jfNm3wk4z7"
      },
      "outputs": [],
      "source": [
        "def normalize_data(df):\n",
        "    num = df.select_dtypes(np.number)\n",
        "    transformer = MinMaxScaler().fit(num) \n",
        "    x_minmax = transformer.transform(num)\n",
        "    num_norm = pd.DataFrame(x_minmax, columns=num.columns, index=num.index)\n",
        "    return num_norm"
      ]
    },
    {
      "cell_type": "markdown",
      "metadata": {
        "id": "octwHkkzk4z7"
      },
      "source": [
        "##### 3.1.2. Box-Cox transformation"
      ]
    },
    {
      "cell_type": "code",
      "execution_count": 4,
      "metadata": {
        "id": "r-6EDUTYk4z8"
      },
      "outputs": [],
      "source": [
        "def boxcox_transform(data):\n",
        "    numeric_cols = data.select_dtypes(np.number).columns\n",
        "    _ci = {column: None for column in numeric_cols}\n",
        "    for column in numeric_cols:\n",
        "        if len(data[column].unique()) < 100:\n",
        "            continue\n",
        "        else:\n",
        "            data[column] = np.where(data[column] <= 0, np.NAN, data[column]) \n",
        "            data[column] = data[column].fillna(data[column].median())\n",
        "            transformed_data, ci = stats.boxcox(data[column])\n",
        "            data[column] = transformed_data\n",
        "            _ci[column] = [ci] \n",
        "    return data"
      ]
    },
    {
      "cell_type": "markdown",
      "metadata": {
        "id": "xUXhhWRTk4z9"
      },
      "source": [
        "##### 3.1.3. Remove outliers"
      ]
    },
    {
      "cell_type": "code",
      "execution_count": 5,
      "metadata": {
        "id": "tdZJJbbtk4z9"
      },
      "outputs": [],
      "source": [
        "def remove_outliers(df, threshold=1.5):\n",
        "    numerical = df.select_dtypes(np.number)\n",
        "    columns = numerical.columns\n",
        "    for column in columns:\n",
        "        if len(df[column].unique()) < 100:\n",
        "            continue\n",
        "        else:\n",
        "            upper = np.percentile(df[column], 75)\n",
        "            lower = np.percentile(df[column], 25)\n",
        "            iqr = upper - lower\n",
        "            upper_limit = upper + threshold * iqr\n",
        "            lower_limit = lower - threshold * iqr\n",
        "            df = df[(df[column]>lower_limit) & (df[column]<upper_limit)]\n",
        "    return df"
      ]
    },
    {
      "cell_type": "markdown",
      "metadata": {
        "id": "3KPAl9Pbk4z-"
      },
      "source": [
        "##### 3.1.4. Encode categorical data (`get_dummies`)"
      ]
    },
    {
      "cell_type": "code",
      "execution_count": 17,
      "metadata": {
        "id": "Bx1bDJMVk4z_"
      },
      "outputs": [],
      "source": [
        "def encode_cat(df, target):\n",
        "    cat = df.select_dtypes(object)\n",
        "    y = cat[target]\n",
        "    cat.drop(target, axis=1, inplace=True)\n",
        "    cat = pd.get_dummies(cat, columns=cat.columns, drop_first=True)\n",
        "    cat = pd.concat([cat, y], axis=1)\n",
        "    return cat"
      ]
    },
    {
      "cell_type": "markdown",
      "metadata": {
        "id": "EKHbBEvuk40A"
      },
      "source": [
        "##### 3.1.5. Concatenate numerical and categorical data"
      ]
    },
    {
      "cell_type": "code",
      "execution_count": 7,
      "metadata": {
        "id": "cSGneZIuk40A"
      },
      "outputs": [],
      "source": [
        "def new_df(num, cat):\n",
        "    new_df = pd.concat([num, cat], axis=1)\n",
        "    return new_df"
      ]
    },
    {
      "cell_type": "markdown",
      "metadata": {
        "id": "e8Uq7Dwak40B"
      },
      "source": [
        "#### 3.2. Define evaluating functions"
      ]
    },
    {
      "cell_type": "markdown",
      "metadata": {
        "id": "xS5iu7ulBE2O"
      },
      "source": [
        "##### 3.2.1. Running logistic regression model"
      ]
    },
    {
      "cell_type": "code",
      "execution_count": 82,
      "metadata": {
        "id": "iiTNKhYIk40B"
      },
      "outputs": [],
      "source": [
        "def regression(df, target):\n",
        "    y = df[target]\n",
        "    X = df.drop(target, axis=1)\n",
        "    X_train, X_test, y_train, y_test = train_test_split(X, y, \\\n",
        "        test_size=0.3, random_state=42)\n",
        "    model = LogisticRegression(random_state=0, multi_class='ovr')\n",
        "    model.fit(X_train, y_train)\n",
        "    predictions = model.predict(X_test)\n",
        "    cm = confusion_matrix(y_test, predictions)\n",
        "    sns.heatmap(cm, annot=True, fmt='g', xticklabels=[\"No\", \"Yes\"], \\\n",
        "        yticklabels=[\"No\", \"Yes\"])\n",
        "    plt.show()\n",
        "    rejected_offers = round(cm[0][0] * 100 / sum(cm[0]), 2)\n",
        "    print(\"Rejected offers prediction accuracy:\", rejected_offers, \"%\")\n",
        "    accepted_offers = round(cm[1][1] * 100 / sum(cm[1]), 2)  \n",
        "    print(\"Accepted offers prediction accuracy:\", accepted_offers, \"%\")"
      ]
    },
    {
      "cell_type": "markdown",
      "metadata": {},
      "source": [
        "##### 3.2.2. Running logistic regression model with SMOTE before train-test split"
      ]
    },
    {
      "cell_type": "code",
      "execution_count": 94,
      "metadata": {},
      "outputs": [],
      "source": [
        "def pre_balanced_regression(df, target):\n",
        "    y = df[target]\n",
        "    X = df.drop(target, axis=1)\n",
        "    smote = SMOTE()\n",
        "    X_sm, y_sm = smote.fit_resample(X, y)\n",
        "    X_train, X_test, y_train, y_test = train_test_split(X_sm, y_sm, \\\n",
        "        test_size=0.3, random_state=42)\n",
        "    model = LogisticRegression(random_state=0, multi_class='ovr')\n",
        "    model.fit(X_train, y_train)\n",
        "    predictions = model.predict(X_test)\n",
        "    cm = confusion_matrix(y_test, predictions)\n",
        "    sns.heatmap(cm, annot=True, fmt='g', xticklabels=[\"No\", \"Yes\"], \\\n",
        "        yticklabels=[\"No\", \"Yes\"])\n",
        "    plt.show()\n",
        "    rejected_offers = round(cm[0][0] * 100 / sum(cm[0]), 2)\n",
        "    print(\"Rejected offers prediction accuracy:\", rejected_offers, \"%\")\n",
        "    accepted_offers = round(cm[1][1] * 100 / sum(cm[1]), 2)  \n",
        "    print(\"Accepted offers prediction accuracy:\", accepted_offers, \"%\")"
      ]
    },
    {
      "cell_type": "markdown",
      "metadata": {},
      "source": [
        "##### 3.2.3. Running logistic regression model with SMOTE after train-test split"
      ]
    },
    {
      "cell_type": "code",
      "execution_count": 86,
      "metadata": {},
      "outputs": [],
      "source": [
        "def post_balanced_regression(df, target):\n",
        "    y = df[target]\n",
        "    X = df.drop(target, axis=1)\n",
        "    X_train, X_test, y_train, y_test = train_test_split(X, y, \\\n",
        "        test_size=0.3, random_state=42)\n",
        "    model = LogisticRegression(random_state=0, multi_class='ovr')\n",
        "    smote = SMOTE()\n",
        "    X_sm, y_sm = smote.fit_resample(X_train, y_train)\n",
        "    model.fit(X_sm, y_sm)\n",
        "    predictions = model.predict(X_test)\n",
        "    cm = confusion_matrix(y_test, predictions)\n",
        "    sns.heatmap(cm, annot=True, fmt='g', xticklabels=[\"No\", \"Yes\"], \\\n",
        "        yticklabels=[\"No\", \"Yes\"])\n",
        "    plt.show()\n",
        "    rejected_offers = round(cm[0][0] * 100 / sum(cm[0]), 2)\n",
        "    print(\"Rejected offers prediction accuracy:\", rejected_offers, \"%\")\n",
        "    accepted_offers = round(cm[1][1] * 100 / sum(cm[1]), 2)  \n",
        "    print(\"Accepted offers prediction accuracy:\", accepted_offers, \"%\")"
      ]
    },
    {
      "cell_type": "markdown",
      "metadata": {
        "id": "xS5iu7ulBE2O"
      },
      "source": [
        "##### 3.2.4. Running K-Nearest Neighbours model"
      ]
    },
    {
      "cell_type": "code",
      "execution_count": 64,
      "metadata": {},
      "outputs": [],
      "source": [
        "def classification(df, target, neighbors=4):\n",
        "    y = df[target]\n",
        "    X = df.drop(target, axis=1)\n",
        "    X_train, X_test, y_train, y_test = train_test_split(X, y, \\\n",
        "        test_size=0.3, random_state=42)\n",
        "    model = KNeighborsClassifier(n_neighbors=neighbors)\n",
        "    model.fit(X_train, y_train)\n",
        "    predictions = model.predict(X_test)\n",
        "    cm = confusion_matrix(y_test, predictions)\n",
        "    sns.heatmap(cm, annot=True, fmt='g', yticklabels=[\"No\", \"Yes\"], \\\n",
        "        xticklabels=[\"No\", \"Yes\"])\n",
        "    rejected_offers = round(cm[0][0] * 100 / sum(cm[0]), 2)\n",
        "    print(\"Rejected offers prediction accuracy:\", rejected_offers, \"%\")\n",
        "    accepted_offers = round(cm[1][1] * 100 / sum(cm[1]), 2)  \n",
        "    print(\"Accepted offers prediction accuracy:\", accepted_offers, \"%\")\n",
        "    plt.show()"
      ]
    },
    {
      "cell_type": "markdown",
      "metadata": {
        "id": "xS5iu7ulBE2O"
      },
      "source": [
        "##### 3.2.5. Running K-Nearest Neighbours model with SMOTE before train-test split"
      ]
    },
    {
      "cell_type": "code",
      "execution_count": 87,
      "metadata": {},
      "outputs": [],
      "source": [
        "def pre_balanced_classification(df, target, neighbors=4):\n",
        "    y = df[target]\n",
        "    X = df.drop(target, axis=1)\n",
        "    smote = SMOTE()\n",
        "    X_sm, y_sm = smote.fit_resample(X, y)\n",
        "    X_train, X_test, y_train, y_test = train_test_split(X_sm, y_sm, \\\n",
        "        test_size=0.3, random_state=42)\n",
        "    model = KNeighborsClassifier(n_neighbors=neighbors)\n",
        "    model.fit(X_train, y_train)\n",
        "    predictions = model.predict(X_test)\n",
        "    cm = confusion_matrix(y_test, predictions)\n",
        "    sns.heatmap(cm, annot=True, fmt='g', yticklabels=[\"No\", \"Yes\"], \\\n",
        "        xticklabels=[\"No\", \"Yes\"])\n",
        "    rejected_offers = round(cm[0][0] * 100 / sum(cm[0]), 2)\n",
        "    print(\"Rejected offers prediction accuracy:\", rejected_offers, \"%\")\n",
        "    accepted_offers = round(cm[1][1] * 100 / sum(cm[1]), 2)  \n",
        "    print(\"Accepted offers prediction accuracy:\", accepted_offers, \"%\")\n",
        "    plt.show()"
      ]
    },
    {
      "cell_type": "markdown",
      "metadata": {
        "id": "xS5iu7ulBE2O"
      },
      "source": [
        "##### 3.2.6. Running K-Nearest Neighbours model with SMOTE after train-test split"
      ]
    },
    {
      "cell_type": "code",
      "execution_count": 90,
      "metadata": {},
      "outputs": [],
      "source": [
        "def post_balanced_classification(df, target, neighbors=4):\n",
        "    y = df[target]\n",
        "    X = df.drop(target, axis=1)\n",
        "    X_train, X_test, y_train, y_test = train_test_split(X, y, \\\n",
        "        test_size=0.3, random_state=42)\n",
        "    model = KNeighborsClassifier(n_neighbors=neighbors)\n",
        "    smote = SMOTE()\n",
        "    X_sm, y_sm = smote.fit_resample(X_train, y_train)\n",
        "    model.fit(X_sm, y_sm)\n",
        "    predictions = model.predict(X_test)\n",
        "    cm = confusion_matrix(y_test, predictions)\n",
        "    sns.heatmap(cm, annot=True, fmt='g', yticklabels=[\"No\", \"Yes\"], \\\n",
        "        xticklabels=[\"No\", \"Yes\"])\n",
        "    rejected_offers = round(cm[0][0] * 100 / sum(cm[0]), 2)\n",
        "    print(\"Rejected offers prediction accuracy:\", rejected_offers, \"%\")\n",
        "    accepted_offers = round(cm[1][1] * 100 / sum(cm[1]), 2)  \n",
        "    print(\"Accepted offers prediction accuracy:\", accepted_offers, \"%\")\n",
        "    plt.show()"
      ]
    },
    {
      "cell_type": "markdown",
      "metadata": {
        "id": "h0kL34_hk40D"
      },
      "source": [
        "#### 3.3. Optimize model for the `offer_accepted`"
      ]
    },
    {
      "cell_type": "markdown",
      "metadata": {
        "id": "h3-N8SzlDwK_"
      },
      "source": [
        "##### 3.3.1. Use a mixture of transformations on the data excluding quarterly balances:"
      ]
    },
    {
      "cell_type": "markdown",
      "metadata": {},
      "source": [
        "##### 3.3.1.1. All transformations"
      ]
    },
    {
      "cell_type": "code",
      "execution_count": 106,
      "metadata": {
        "colab": {
          "base_uri": "https://localhost:8080/",
          "height": 480
        },
        "id": "62gH6tphk40D",
        "outputId": "4a417c4e-b186-45bc-fdaf-c66fed38c97d"
      },
      "outputs": [
        {
          "name": "stderr",
          "output_type": "stream",
          "text": [
            "/home/sabina/.local/lib/python3.8/site-packages/pandas/core/frame.py:4906: SettingWithCopyWarning: \n",
            "A value is trying to be set on a copy of a slice from a DataFrame\n",
            "\n",
            "See the caveats in the documentation: https://pandas.pydata.org/pandas-docs/stable/user_guide/indexing.html#returning-a-view-versus-a-copy\n",
            "  return super().drop(\n"
          ]
        }
      ],
      "source": [
        "data_1 = data.copy()\n",
        "\n",
        "# 0. Drop quarterly balances\n",
        "to_drop = ['balance_Q1', 'balance_Q2', 'balance_Q3', 'balance_Q4']\n",
        "data_1.drop(to_drop, axis=1, inplace=True)\n",
        "\n",
        "# 1. Remove outliers\n",
        "data_1 = remove_outliers(data_1)\n",
        "\n",
        "# 2. Box-Cox transform\n",
        "data_1 = boxcox_transform(data_1)\n",
        "\n",
        "# 3. Scale numerical data\n",
        "num_norm_1 = normalize_data(data_1)\n",
        "\n",
        "# 4. Encode categorical data\n",
        "cat_1 = encode_cat(data_1, 'offer_accepted')\n",
        "\n",
        "# 5. Merge numerical & categorical data\n",
        "new_df_1 = new_df(num_norm_1, cat_1)"
      ]
    },
    {
      "cell_type": "markdown",
      "metadata": {},
      "source": [
        "a. Logistic Regression"
      ]
    },
    {
      "cell_type": "code",
      "execution_count": 107,
      "metadata": {},
      "outputs": [
        {
          "data": {
            "image/png": "[encoded data removed]",
            "text/plain": [
              "<Figure size 432x288 with 2 Axes>"
            ]
          },
          "metadata": {
            "needs_background": "light"
          },
          "output_type": "display_data"
        },
        {
          "name": "stdout",
          "output_type": "stream",
          "text": [
            "Rejected offers prediction accuracy: 100.0 %\n",
            "Accepted offers prediction accuracy: 0.0 %\n"
          ]
        }
      ],
      "source": [
        "# 6. Run regression\n",
        "regression(new_df_1, 'offer_accepted')"
      ]
    },
    {
      "cell_type": "markdown",
      "metadata": {},
      "source": [
        "We notice that the model incorrectly predicts when the offer will be accepted 100% of the time - therefore, we need to deal with the data imbalance before running the model."
      ]
    },
    {
      "cell_type": "markdown",
      "metadata": {},
      "source": [
        "b. Logistic Regression + pre-SMOTE"
      ]
    },
    {
      "cell_type": "code",
      "execution_count": 111,
      "metadata": {},
      "outputs": [
        {
          "data": {
            "image/png": "[encoded data removed]",
            "text/plain": [
              "<Figure size 432x288 with 2 Axes>"
            ]
          },
          "metadata": {
            "needs_background": "light"
          },
          "output_type": "display_data"
        },
        {
          "name": "stdout",
          "output_type": "stream",
          "text": [
            "Rejected offers prediction accuracy: 68.36 %\n",
            "Accepted offers prediction accuracy: 72.84 %\n"
          ]
        }
      ],
      "source": [
        "# 6. Run regression\n",
        "pre_balanced_regression(new_df_1, 'offer_accepted')"
      ]
    },
    {
      "cell_type": "markdown",
      "metadata": {},
      "source": [
        "By using SMOTE we improved the overall & individual accuracy of the predictions."
      ]
    },
    {
      "cell_type": "markdown",
      "metadata": {},
      "source": [
        "c. Logistic Regression + post-SMOTE"
      ]
    },
    {
      "cell_type": "code",
      "execution_count": 109,
      "metadata": {},
      "outputs": [
        {
          "data": {
            "image/png": "[encoded data removed]",
            "text/plain": [
              "<Figure size 432x288 with 2 Axes>"
            ]
          },
          "metadata": {
            "needs_background": "light"
          },
          "output_type": "display_data"
        },
        {
          "name": "stdout",
          "output_type": "stream",
          "text": [
            "Rejected offers prediction accuracy: 68.55 %\n",
            "Accepted offers prediction accuracy: 67.9 %\n"
          ]
        }
      ],
      "source": [
        "# 6. Run regression\n",
        "post_balanced_regression(new_df_1, 'offer_accepted')"
      ]
    },
    {
      "cell_type": "markdown",
      "metadata": {},
      "source": [
        "The prediction accuracy is slightly lower in the post-SMOTE approach, but it is more balanced."
      ]
    },
    {
      "cell_type": "markdown",
      "metadata": {},
      "source": [
        "d. KNN model"
      ]
    },
    {
      "cell_type": "code",
      "execution_count": 85,
      "metadata": {},
      "outputs": [
        {
          "name": "stdout",
          "output_type": "stream",
          "text": [
            "Rejected offers prediction accuracy: 99.74 %\n",
            "Accepted offers prediction accuracy: 0.74 %\n"
          ]
        },
        {
          "data": {
            "image/png": "[encoded data removed]",
            "text/plain": [
              "<Figure size 432x288 with 2 Axes>"
            ]
          },
          "metadata": {
            "needs_background": "light"
          },
          "output_type": "display_data"
        }
      ],
      "source": [
        "# 6. Run regression\n",
        "classification(new_df_1, 'offer_accepted', neighbors=4)"
      ]
    },
    {
      "cell_type": "markdown",
      "metadata": {},
      "source": [
        "We see that the score is only marginally higher with KNN (n=4) as opposed to the logistic regression model. We can also use different numbers of neighbors:"
      ]
    },
    {
      "cell_type": "code",
      "execution_count": 75,
      "metadata": {},
      "outputs": [
        {
          "name": "stdout",
          "output_type": "stream",
          "text": [
            "Rejected offers prediction accuracy: 98.51 %\n",
            "Accepted offers prediction accuracy: 3.69 %\n"
          ]
        },
        {
          "data": {
            "image/png": "[encoded data removed]",
            "text/plain": [
              "<Figure size 432x288 with 2 Axes>"
            ]
          },
          "metadata": {
            "needs_background": "light"
          },
          "output_type": "display_data"
        }
      ],
      "source": [
        "classification(new_df_1, 'offer_accepted', neighbors=3)"
      ]
    },
    {
      "cell_type": "code",
      "execution_count": 76,
      "metadata": {},
      "outputs": [
        {
          "name": "stdout",
          "output_type": "stream",
          "text": [
            "Rejected offers prediction accuracy: 99.55 %\n",
            "Accepted offers prediction accuracy: 1.48 %\n"
          ]
        },
        {
          "data": {
            "image/png": "[encoded data removed]",
            "text/plain": [
              "<Figure size 432x288 with 2 Axes>"
            ]
          },
          "metadata": {
            "needs_background": "light"
          },
          "output_type": "display_data"
        }
      ],
      "source": [
        "classification(new_df_1, 'offer_accepted', neighbors=5)"
      ]
    },
    {
      "cell_type": "code",
      "execution_count": 77,
      "metadata": {},
      "outputs": [
        {
          "name": "stdout",
          "output_type": "stream",
          "text": [
            "Rejected offers prediction accuracy: 99.94 %\n",
            "Accepted offers prediction accuracy: 1.11 %\n"
          ]
        },
        {
          "data": {
            "image/png": "[encoded data removed]",
            "text/plain": [
              "<Figure size 432x288 with 2 Axes>"
            ]
          },
          "metadata": {
            "needs_background": "light"
          },
          "output_type": "display_data"
        }
      ],
      "source": [
        "classification(new_df_1, 'offer_accepted', neighbors=6)"
      ]
    },
    {
      "cell_type": "markdown",
      "metadata": {},
      "source": [
        "We can see that the ideal number of neighbors to get a balanced accuracy would be n=3."
      ]
    },
    {
      "cell_type": "markdown",
      "metadata": {},
      "source": [
        "e. KNN model with pre-SMOTE"
      ]
    },
    {
      "cell_type": "code",
      "execution_count": 112,
      "metadata": {},
      "outputs": [
        {
          "name": "stdout",
          "output_type": "stream",
          "text": [
            "Rejected offers prediction accuracy: 83.69 %\n",
            "Accepted offers prediction accuracy: 30.63 %\n"
          ]
        },
        {
          "data": {
            "image/png": "[encoded data removed]",
            "text/plain": [
              "<Figure size 432x288 with 2 Axes>"
            ]
          },
          "metadata": {
            "needs_background": "light"
          },
          "output_type": "display_data"
        }
      ],
      "source": [
        "pre_balanced_classification(new_df_1, 'offer_accepted', neighbors=3)"
      ]
    },
    {
      "cell_type": "markdown",
      "metadata": {},
      "source": [
        "f. KNN model with post-SMOTE"
      ]
    },
    {
      "cell_type": "code",
      "execution_count": 113,
      "metadata": {},
      "outputs": [
        {
          "name": "stdout",
          "output_type": "stream",
          "text": [
            "Rejected offers prediction accuracy: 84.01 %\n",
            "Accepted offers prediction accuracy: 32.1 %\n"
          ]
        },
        {
          "data": {
            "image/png": "[encoded data removed]",
            "text/plain": [
              "<Figure size 432x288 with 2 Axes>"
            ]
          },
          "metadata": {
            "needs_background": "light"
          },
          "output_type": "display_data"
        }
      ],
      "source": [
        "post_balanced_classification(new_df_1, 'offer_accepted', neighbors=3)"
      ]
    },
    {
      "cell_type": "markdown",
      "metadata": {},
      "source": [
        "The KNN classifier with SMOTE performs worse than the logistic regression model with SMOTE."
      ]
    },
    {
      "cell_type": "markdown",
      "metadata": {},
      "source": [
        "##### 3.3.2. Use a mixture of transformations on the data without excluding quarterly balances:"
      ]
    },
    {
      "cell_type": "markdown",
      "metadata": {},
      "source": [
        "##### 3.3.2.1. All transformations"
      ]
    },
    {
      "cell_type": "code",
      "execution_count": 79,
      "metadata": {},
      "outputs": [
        {
          "name": "stderr",
          "output_type": "stream",
          "text": [
            "/home/sabina/.local/lib/python3.8/site-packages/pandas/core/frame.py:4906: SettingWithCopyWarning: \n",
            "A value is trying to be set on a copy of a slice from a DataFrame\n",
            "\n",
            "See the caveats in the documentation: https://pandas.pydata.org/pandas-docs/stable/user_guide/indexing.html#returning-a-view-versus-a-copy\n",
            "  return super().drop(\n"
          ]
        }
      ],
      "source": [
        "data_2 = data.copy()\n",
        "\n",
        "# 1. Remove outliers\n",
        "data_2 = remove_outliers(data_2)\n",
        "\n",
        "# 2. Box-Cox transform\n",
        "data_2 = boxcox_transform(data_2)\n",
        "\n",
        "# 3. Scale numerical data\n",
        "num_norm_2 = normalize_data(data_2)\n",
        "\n",
        "# 4. Encode categorical data\n",
        "cat_2 = encode_cat(data_2, 'offer_accepted')\n",
        "\n",
        "# 5. Merge numerical & categorical data\n",
        "new_df_2 = new_df(num_norm_2, cat_2)"
      ]
    },
    {
      "cell_type": "code",
      "execution_count": 115,
      "metadata": {},
      "outputs": [
        {
          "data": {
            "image/png": "[encoded data removed]",
            "text/plain": [
              "<Figure size 432x288 with 2 Axes>"
            ]
          },
          "metadata": {
            "needs_background": "light"
          },
          "output_type": "display_data"
        },
        {
          "name": "stdout",
          "output_type": "stream",
          "text": [
            "Rejected offers prediction accuracy: 100.0 %\n",
            "Accepted offers prediction accuracy: 0.0 %\n"
          ]
        }
      ],
      "source": [
        "regression(new_df_2, 'offer_accepted')"
      ]
    },
    {
      "cell_type": "markdown",
      "metadata": {},
      "source": [
        "There was no change in the logistic regression results due to removal of the quarterly balances."
      ]
    },
    {
      "cell_type": "code",
      "execution_count": 114,
      "metadata": {},
      "outputs": [
        {
          "data": {
            "image/png": "[encoded data removed]",
            "text/plain": [
              "<Figure size 432x288 with 2 Axes>"
            ]
          },
          "metadata": {
            "needs_background": "light"
          },
          "output_type": "display_data"
        },
        {
          "name": "stdout",
          "output_type": "stream",
          "text": [
            "Rejected offers prediction accuracy: 68.42 %\n",
            "Accepted offers prediction accuracy: 70.69 %\n"
          ]
        }
      ],
      "source": [
        "pre_balanced_regression(new_df_2, 'offer_accepted')"
      ]
    },
    {
      "cell_type": "code",
      "execution_count": 116,
      "metadata": {},
      "outputs": [
        {
          "data": {
            "image/png": "[encoded data removed]",
            "text/plain": [
              "<Figure size 432x288 with 2 Axes>"
            ]
          },
          "metadata": {
            "needs_background": "light"
          },
          "output_type": "display_data"
        },
        {
          "name": "stdout",
          "output_type": "stream",
          "text": [
            "Rejected offers prediction accuracy: 69.73 %\n",
            "Accepted offers prediction accuracy: 65.93 %\n"
          ]
        }
      ],
      "source": [
        "post_balanced_regression(new_df_2, 'offer_accepted')"
      ]
    },
    {
      "cell_type": "code",
      "execution_count": 117,
      "metadata": {},
      "outputs": [
        {
          "name": "stdout",
          "output_type": "stream",
          "text": [
            "Rejected offers prediction accuracy: 98.98 %\n",
            "Accepted offers prediction accuracy: 2.96 %\n"
          ]
        },
        {
          "data": {
            "image/png": "[encoded data removed]",
            "text/plain": [
              "<Figure size 432x288 with 2 Axes>"
            ]
          },
          "metadata": {
            "needs_background": "light"
          },
          "output_type": "display_data"
        }
      ],
      "source": [
        "classification(new_df_2, 'offer_accepted', neighbors=3)"
      ]
    },
    {
      "cell_type": "code",
      "execution_count": 118,
      "metadata": {},
      "outputs": [
        {
          "name": "stdout",
          "output_type": "stream",
          "text": [
            "Rejected offers prediction accuracy: 81.39 %\n",
            "Accepted offers prediction accuracy: 34.07 %\n"
          ]
        },
        {
          "data": {
            "image/png": "[encoded data removed]",
            "text/plain": [
              "<Figure size 432x288 with 2 Axes>"
            ]
          },
          "metadata": {
            "needs_background": "light"
          },
          "output_type": "display_data"
        }
      ],
      "source": [
        "pre_balanced_classification(new_df_2, 'offer_accepted', neighbors=3)"
      ]
    },
    {
      "cell_type": "code",
      "execution_count": 119,
      "metadata": {},
      "outputs": [
        {
          "name": "stdout",
          "output_type": "stream",
          "text": [
            "Rejected offers prediction accuracy: 81.28 %\n",
            "Accepted offers prediction accuracy: 36.67 %\n"
          ]
        },
        {
          "data": {
            "image/png": "[encoded data removed]",
            "text/plain": [
              "<Figure size 432x288 with 2 Axes>"
            ]
          },
          "metadata": {
            "needs_background": "light"
          },
          "output_type": "display_data"
        }
      ],
      "source": [
        "post_balanced_classification(new_df_2, 'offer_accepted', neighbors=3)"
      ]
    },
    {
      "cell_type": "markdown",
      "metadata": {},
      "source": [
        "We notice that both the models perform better when all of the balances are included."
      ]
    }
  ],
  "metadata": {
    "colab": {
      "collapsed_sections": [],
      "name": "mini-project - 3. Modelling & Evaluation.ipynb",
      "provenance": []
    },
    "interpreter": {
      "hash": "916dbcbb3f70747c44a77c7bcd40155683ae19c65e1c03b4aa3499c5328201f1"
    },
    "kernelspec": {
      "display_name": "Python 3.8.10 64-bit",
      "language": "python",
      "name": "python3"
    },
    "language_info": {
      "codemirror_mode": {
        "name": "ipython",
        "version": 3
      },
      "file_extension": ".py",
      "mimetype": "text/x-python",
      "name": "python",
      "nbconvert_exporter": "python",
      "pygments_lexer": "ipython3",
      "version": "3.8.10"
    },
    "orig_nbformat": 4
  },
  "nbformat": 4,
  "nbformat_minor": 0
}
