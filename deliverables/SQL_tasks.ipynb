{
 "cells": [
  {
   "cell_type": "code",
   "execution_count": 4,
   "metadata": {},
   "outputs": [],
   "source": [
    "import pandas as pd\n",
    "import numpy as np\n",
    "import matplotlib.pyplot as plt\n",
    "import seaborn as sns\n",
    "import sqlalchemy as db\n",
    "import getpass"
   ]
  },
  {
   "cell_type": "code",
   "execution_count": 8,
   "metadata": {},
   "outputs": [
    {
     "data": {
      "text/html": [
       "<div>\n",
       "<style scoped>\n",
       "    .dataframe tbody tr th:only-of-type {\n",
       "        vertical-align: middle;\n",
       "    }\n",
       "\n",
       "    .dataframe tbody tr th {\n",
       "        vertical-align: top;\n",
       "    }\n",
       "\n",
       "    .dataframe thead th {\n",
       "        text-align: right;\n",
       "    }\n",
       "</style>\n",
       "<table border=\"1\" class=\"dataframe\">\n",
       "  <thead>\n",
       "    <tr style=\"text-align: right;\">\n",
       "      <th></th>\n",
       "      <th>0</th>\n",
       "      <th>1</th>\n",
       "      <th>2</th>\n",
       "      <th>3</th>\n",
       "      <th>4</th>\n",
       "      <th>5</th>\n",
       "      <th>6</th>\n",
       "      <th>7</th>\n",
       "      <th>8</th>\n",
       "      <th>9</th>\n",
       "      <th>10</th>\n",
       "      <th>11</th>\n",
       "      <th>12</th>\n",
       "      <th>13</th>\n",
       "      <th>14</th>\n",
       "      <th>15</th>\n",
       "      <th>16</th>\n",
       "    </tr>\n",
       "  </thead>\n",
       "  <tbody>\n",
       "    <tr>\n",
       "      <th>0</th>\n",
       "      <td>1</td>\n",
       "      <td>No</td>\n",
       "      <td>Air Miles</td>\n",
       "      <td>Letter</td>\n",
       "      <td>High</td>\n",
       "      <td>1</td>\n",
       "      <td>No</td>\n",
       "      <td>High</td>\n",
       "      <td>2</td>\n",
       "      <td>1</td>\n",
       "      <td>4</td>\n",
       "      <td>No</td>\n",
       "      <td>1160.75</td>\n",
       "      <td>1669.0</td>\n",
       "      <td>877.0</td>\n",
       "      <td>1095.0</td>\n",
       "      <td>1002.0</td>\n",
       "    </tr>\n",
       "    <tr>\n",
       "      <th>1</th>\n",
       "      <td>2</td>\n",
       "      <td>No</td>\n",
       "      <td>Air Miles</td>\n",
       "      <td>Letter</td>\n",
       "      <td>Medium</td>\n",
       "      <td>1</td>\n",
       "      <td>No</td>\n",
       "      <td>Medium</td>\n",
       "      <td>2</td>\n",
       "      <td>2</td>\n",
       "      <td>5</td>\n",
       "      <td>Yes</td>\n",
       "      <td>147.25</td>\n",
       "      <td>39.0</td>\n",
       "      <td>106.0</td>\n",
       "      <td>78.0</td>\n",
       "      <td>366.0</td>\n",
       "    </tr>\n",
       "    <tr>\n",
       "      <th>2</th>\n",
       "      <td>3</td>\n",
       "      <td>No</td>\n",
       "      <td>Air Miles</td>\n",
       "      <td>Postcard</td>\n",
       "      <td>High</td>\n",
       "      <td>2</td>\n",
       "      <td>No</td>\n",
       "      <td>Medium</td>\n",
       "      <td>2</td>\n",
       "      <td>1</td>\n",
       "      <td>2</td>\n",
       "      <td>Yes</td>\n",
       "      <td>276.50</td>\n",
       "      <td>367.0</td>\n",
       "      <td>352.0</td>\n",
       "      <td>145.0</td>\n",
       "      <td>242.0</td>\n",
       "    </tr>\n",
       "    <tr>\n",
       "      <th>3</th>\n",
       "      <td>4</td>\n",
       "      <td>No</td>\n",
       "      <td>Air Miles</td>\n",
       "      <td>Letter</td>\n",
       "      <td>Medium</td>\n",
       "      <td>2</td>\n",
       "      <td>No</td>\n",
       "      <td>High</td>\n",
       "      <td>1</td>\n",
       "      <td>1</td>\n",
       "      <td>4</td>\n",
       "      <td>No</td>\n",
       "      <td>1219.00</td>\n",
       "      <td>1578.0</td>\n",
       "      <td>1760.0</td>\n",
       "      <td>1119.0</td>\n",
       "      <td>419.0</td>\n",
       "    </tr>\n",
       "    <tr>\n",
       "      <th>4</th>\n",
       "      <td>5</td>\n",
       "      <td>No</td>\n",
       "      <td>Air Miles</td>\n",
       "      <td>Letter</td>\n",
       "      <td>Medium</td>\n",
       "      <td>1</td>\n",
       "      <td>No</td>\n",
       "      <td>Medium</td>\n",
       "      <td>2</td>\n",
       "      <td>1</td>\n",
       "      <td>6</td>\n",
       "      <td>Yes</td>\n",
       "      <td>1211.00</td>\n",
       "      <td>2140.0</td>\n",
       "      <td>1357.0</td>\n",
       "      <td>982.0</td>\n",
       "      <td>365.0</td>\n",
       "    </tr>\n",
       "  </tbody>\n",
       "</table>\n",
       "</div>"
      ],
      "text/plain": [
       "   0   1          2         3       4   5   6       7   8   9   10   11  \\\n",
       "0   1  No  Air Miles    Letter    High   1  No    High   2   1   4   No   \n",
       "1   2  No  Air Miles    Letter  Medium   1  No  Medium   2   2   5  Yes   \n",
       "2   3  No  Air Miles  Postcard    High   2  No  Medium   2   1   2  Yes   \n",
       "3   4  No  Air Miles    Letter  Medium   2  No    High   1   1   4   No   \n",
       "4   5  No  Air Miles    Letter  Medium   1  No  Medium   2   1   6  Yes   \n",
       "\n",
       "        12      13      14      15      16  \n",
       "0  1160.75  1669.0   877.0  1095.0  1002.0  \n",
       "1   147.25    39.0   106.0    78.0   366.0  \n",
       "2   276.50   367.0   352.0   145.0   242.0  \n",
       "3  1219.00  1578.0  1760.0  1119.0   419.0  \n",
       "4  1211.00  2140.0  1357.0   982.0   365.0  "
      ]
     },
     "execution_count": 8,
     "metadata": {},
     "output_type": "execute_result"
    }
   ],
   "source": [
    "# We noticed the data doesn't have column names, so we'll read it without adding\n",
    "# headers and add the column names afterwards\n",
    "\n",
    "data = pd.read_csv('creditcardmarketing.csv', header=None)\n",
    "data.head()"
   ]
  },
  {
   "cell_type": "code",
   "execution_count": 11,
   "metadata": {},
   "outputs": [],
   "source": [
    "columns = ['customer_number', 'offer_accepted', 'reward', 'mailer_type', \\\n",
    "    'income_level', 'bank_accounts_open', 'overdraft_protection', \\\n",
    "    'credit_rating', 'credit_cards_held', 'homes_owned', 'household_size', \\\n",
    "    'home_owner', 'average_balance', 'balance_Q1', 'balance_Q2', 'balance_Q3', \\\n",
    "    'balance_Q4']\n",
    "\n",
    "data.columns = columns"
   ]
  },
  {
   "cell_type": "code",
   "execution_count": 17,
   "metadata": {},
   "outputs": [],
   "source": [
    "data.to_csv('creditcardmarketing_with_headers.csv', index=False)"
   ]
  },
  {
   "cell_type": "markdown",
   "metadata": {},
   "source": [
    "### Instructions"
   ]
  },
  {
   "cell_type": "markdown",
   "metadata": {},
   "source": [
    "#### 1. Create a database called `credit_card_classification`"
   ]
  },
  {
   "cell_type": "code",
   "execution_count": 24,
   "metadata": {},
   "outputs": [
    {
     "name": "stdout",
     "output_type": "stream",
     "text": [
      "2022-04-02 13:39:58,538 INFO sqlalchemy.engine.Engine SELECT @@sql_mode\n",
      "2022-04-02 13:39:58,539 INFO sqlalchemy.engine.Engine [raw sql] {}\n",
      "2022-04-02 13:39:58,541 INFO sqlalchemy.engine.Engine SELECT @@lower_case_table_names\n",
      "2022-04-02 13:39:58,542 INFO sqlalchemy.engine.Engine [raw sql] {}\n",
      "2022-04-02 13:39:58,543 INFO sqlalchemy.engine.Engine SELECT DATABASE()\n",
      "2022-04-02 13:39:58,544 INFO sqlalchemy.engine.Engine [raw sql] {}\n"
     ]
    }
   ],
   "source": [
    "password = getpass.getpass('Get password')\n",
    "\n",
    "connection_string = 'mysql+pymysql://root:' + password + '@localhost/credit_card_classification'\n",
    "engine = db.create_engine(connection_string, echo=True)\n",
    "# The credit_card_classification schema was created in MySQL Workbench, so next line is commented out\n",
    "# engine.execute(\"CREATE DATABASE IF NOT EXISTS credit_card_classification\")\n",
    "# engine.execute(\"USE credit_card_classification\")\n",
    "metadata = db.MetaData()\n",
    "conn = engine.connect()"
   ]
  },
  {
   "cell_type": "markdown",
   "metadata": {},
   "source": [
    "#### 2. Create a table `credit_card_data` with the same columns as given in the csv file. Please make sure you use the correct data types for each of the columns."
   ]
  },
  {
   "cell_type": "code",
   "execution_count": 19,
   "metadata": {},
   "outputs": [],
   "source": [
    "credit_card_data = db.Table('credit_card_data', metadata,\n",
    "                    db.Column('customer_number', db.Integer()),\n",
    "                    db.Column('offer_accepted', db.String(255), nullable=False),\n",
    "                    db.Column('reward', db.String(255), nullable=False),\n",
    "                    db.Column('mailer_type', db.String(255), nullable=False),\n",
    "                    db.Column('income_level', db.String(255), nullable=False),\n",
    "                    db.Column('bank_accounts_open', db.Integer()),\n",
    "                    db.Column('overdraft_protection', db.String(255), nullable=False),\n",
    "                    db.Column('credit_rating', db.String(255), nullable=False),\n",
    "                    db.Column('credit_cards_held', db.Integer()),\n",
    "                    db.Column('homes_owned', db.Integer()),\n",
    "                    db.Column('household_size', db.Integer()),                   \n",
    "                    db.Column('home_owner', db.String(255), nullable=False),\n",
    "                    db.Column('average_balance', db.Float()),                   \n",
    "                    db.Column('balance_Q1', db.Float()),                   \n",
    "                    db.Column('balance_Q2', db.Float()),                   \n",
    "                    db.Column('balance_Q3', db.Float()),                   \n",
    "                    db.Column('balance_Q4', db.Float())                   \n",
    "              )\n",
    "\n",
    "metadata.create_all(engine)"
   ]
  },
  {
   "cell_type": "code",
   "execution_count": 20,
   "metadata": {},
   "outputs": [
    {
     "data": {
      "text/plain": [
       "Index(['customer_number', 'offer_accepted', 'reward', 'mailer_type',\n",
       "       'income_level', 'bank_accounts_open', 'overdraft_protection',\n",
       "       'credit_rating', 'credit_cards_held', 'homes_owned', 'household_size',\n",
       "       'home_owner', 'average_balance', 'balance_Q1', 'balance_Q2',\n",
       "       'balance_Q3', 'balance_Q4'],\n",
       "      dtype='object')"
      ]
     },
     "execution_count": 20,
     "metadata": {},
     "output_type": "execute_result"
    }
   ],
   "source": [
    "data = pd.read_sql_query(\"SELECT * FROM credit_card_data\", engine)\n",
    "data.columns"
   ]
  },
  {
   "cell_type": "markdown",
   "metadata": {},
   "source": [
    "#### 3. Import the data from the csv file into the table. Before you import the data into the empty table, make sure that you have deleted the headers from the csv file. To not modify the original data, if you want you can create a copy of the csv file as well. Note you might have to use the following queries to give permission to SQL to import data from csv files in bulk:\n",
    "\n",
    "```sql\n",
    "SHOW VARIABLES LIKE 'local_infile'; -- This query would show you the status of the variable ‘local_infile’. If it is off, use the next command, otherwise you should be good to go\n",
    "\n",
    "SET GLOBAL local_infile = 1;\n",
    "```"
   ]
  },
  {
   "cell_type": "code",
   "execution_count": 21,
   "metadata": {},
   "outputs": [],
   "source": [
    "# This was done in SQL Workbench using the import table option"
   ]
  },
  {
   "cell_type": "markdown",
   "metadata": {},
   "source": [
    "#### 4.  Select all the data from table `credit_card_data` to check if the data was imported correctly."
   ]
  },
  {
   "cell_type": "code",
   "execution_count": 64,
   "metadata": {},
   "outputs": [
    {
     "name": "stdout",
     "output_type": "stream",
     "text": [
      "2022-04-02 16:15:38,072 INFO sqlalchemy.engine.Engine SELECT * FROM credit_card_data\n",
      "2022-04-02 16:15:38,073 INFO sqlalchemy.engine.Engine [raw sql] {}\n"
     ]
    },
    {
     "data": {
      "text/html": [
       "<div>\n",
       "<style scoped>\n",
       "    .dataframe tbody tr th:only-of-type {\n",
       "        vertical-align: middle;\n",
       "    }\n",
       "\n",
       "    .dataframe tbody tr th {\n",
       "        vertical-align: top;\n",
       "    }\n",
       "\n",
       "    .dataframe thead th {\n",
       "        text-align: right;\n",
       "    }\n",
       "</style>\n",
       "<table border=\"1\" class=\"dataframe\">\n",
       "  <thead>\n",
       "    <tr style=\"text-align: right;\">\n",
       "      <th></th>\n",
       "      <th>customer_number</th>\n",
       "      <th>offer_accepted</th>\n",
       "      <th>reward</th>\n",
       "      <th>mailer_type</th>\n",
       "      <th>income_level</th>\n",
       "      <th>bank_accounts_open</th>\n",
       "      <th>overdraft_protection</th>\n",
       "      <th>credit_rating</th>\n",
       "      <th>credit_cards_held</th>\n",
       "      <th>homes_owned</th>\n",
       "      <th>household_size</th>\n",
       "      <th>home_owner</th>\n",
       "      <th>average_balance</th>\n",
       "      <th>balance_Q1</th>\n",
       "      <th>balance_Q2</th>\n",
       "      <th>balance_Q3</th>\n",
       "    </tr>\n",
       "  </thead>\n",
       "  <tbody>\n",
       "    <tr>\n",
       "      <th>0</th>\n",
       "      <td>1</td>\n",
       "      <td>No</td>\n",
       "      <td>Air Miles</td>\n",
       "      <td>Letter</td>\n",
       "      <td>High</td>\n",
       "      <td>1</td>\n",
       "      <td>No</td>\n",
       "      <td>High</td>\n",
       "      <td>2</td>\n",
       "      <td>1</td>\n",
       "      <td>4</td>\n",
       "      <td>No</td>\n",
       "      <td>1160.75</td>\n",
       "      <td>1669.0</td>\n",
       "      <td>877.0</td>\n",
       "      <td>1095.0</td>\n",
       "    </tr>\n",
       "    <tr>\n",
       "      <th>1</th>\n",
       "      <td>2</td>\n",
       "      <td>No</td>\n",
       "      <td>Air Miles</td>\n",
       "      <td>Letter</td>\n",
       "      <td>Medium</td>\n",
       "      <td>1</td>\n",
       "      <td>No</td>\n",
       "      <td>Medium</td>\n",
       "      <td>2</td>\n",
       "      <td>2</td>\n",
       "      <td>5</td>\n",
       "      <td>Yes</td>\n",
       "      <td>147.25</td>\n",
       "      <td>39.0</td>\n",
       "      <td>106.0</td>\n",
       "      <td>78.0</td>\n",
       "    </tr>\n",
       "    <tr>\n",
       "      <th>2</th>\n",
       "      <td>3</td>\n",
       "      <td>No</td>\n",
       "      <td>Air Miles</td>\n",
       "      <td>Postcard</td>\n",
       "      <td>High</td>\n",
       "      <td>2</td>\n",
       "      <td>No</td>\n",
       "      <td>Medium</td>\n",
       "      <td>2</td>\n",
       "      <td>1</td>\n",
       "      <td>2</td>\n",
       "      <td>Yes</td>\n",
       "      <td>276.50</td>\n",
       "      <td>367.0</td>\n",
       "      <td>352.0</td>\n",
       "      <td>145.0</td>\n",
       "    </tr>\n",
       "    <tr>\n",
       "      <th>3</th>\n",
       "      <td>4</td>\n",
       "      <td>No</td>\n",
       "      <td>Air Miles</td>\n",
       "      <td>Letter</td>\n",
       "      <td>Medium</td>\n",
       "      <td>2</td>\n",
       "      <td>No</td>\n",
       "      <td>High</td>\n",
       "      <td>1</td>\n",
       "      <td>1</td>\n",
       "      <td>4</td>\n",
       "      <td>No</td>\n",
       "      <td>1219.00</td>\n",
       "      <td>1578.0</td>\n",
       "      <td>1760.0</td>\n",
       "      <td>1119.0</td>\n",
       "    </tr>\n",
       "    <tr>\n",
       "      <th>4</th>\n",
       "      <td>5</td>\n",
       "      <td>No</td>\n",
       "      <td>Air Miles</td>\n",
       "      <td>Letter</td>\n",
       "      <td>Medium</td>\n",
       "      <td>1</td>\n",
       "      <td>No</td>\n",
       "      <td>Medium</td>\n",
       "      <td>2</td>\n",
       "      <td>1</td>\n",
       "      <td>6</td>\n",
       "      <td>Yes</td>\n",
       "      <td>1211.00</td>\n",
       "      <td>2140.0</td>\n",
       "      <td>1357.0</td>\n",
       "      <td>982.0</td>\n",
       "    </tr>\n",
       "  </tbody>\n",
       "</table>\n",
       "</div>"
      ],
      "text/plain": [
       "   customer_number offer_accepted     reward mailer_type income_level  \\\n",
       "0                1             No  Air Miles      Letter         High   \n",
       "1                2             No  Air Miles      Letter       Medium   \n",
       "2                3             No  Air Miles    Postcard         High   \n",
       "3                4             No  Air Miles      Letter       Medium   \n",
       "4                5             No  Air Miles      Letter       Medium   \n",
       "\n",
       "   bank_accounts_open overdraft_protection credit_rating  credit_cards_held  \\\n",
       "0                   1                   No          High                  2   \n",
       "1                   1                   No        Medium                  2   \n",
       "2                   2                   No        Medium                  2   \n",
       "3                   2                   No          High                  1   \n",
       "4                   1                   No        Medium                  2   \n",
       "\n",
       "   homes_owned  household_size home_owner  average_balance  balance_Q1  \\\n",
       "0            1               4         No          1160.75      1669.0   \n",
       "1            2               5        Yes           147.25        39.0   \n",
       "2            1               2        Yes           276.50       367.0   \n",
       "3            1               4         No          1219.00      1578.0   \n",
       "4            1               6        Yes          1211.00      2140.0   \n",
       "\n",
       "   balance_Q2  balance_Q3  \n",
       "0       877.0      1095.0  \n",
       "1       106.0        78.0  \n",
       "2       352.0       145.0  \n",
       "3      1760.0      1119.0  \n",
       "4      1357.0       982.0  "
      ]
     },
     "execution_count": 64,
     "metadata": {},
     "output_type": "execute_result"
    }
   ],
   "source": [
    "query = \"SELECT * FROM credit_card_data\"\n",
    "data = pd.read_sql_query(query, engine)\n",
    "data.head()"
   ]
  },
  {
   "cell_type": "markdown",
   "metadata": {},
   "source": [
    "#### 5.  Use the _alter table_ command to drop the column `q4_balance` from the database, as we would not use it in the analysis with SQL. Select all the data from the table to verify if the command worked. Limit your returned results to 10."
   ]
  },
  {
   "cell_type": "code",
   "execution_count": 25,
   "metadata": {},
   "outputs": [
    {
     "name": "stdout",
     "output_type": "stream",
     "text": [
      "2022-04-02 13:44:27,960 INFO sqlalchemy.engine.Engine ALTER TABLE credit_card_data DROP COLUMN balance_Q4\n",
      "2022-04-02 13:44:27,961 INFO sqlalchemy.engine.Engine [raw sql] {}\n",
      "2022-04-02 13:44:28,238 INFO sqlalchemy.engine.Engine COMMIT\n"
     ]
    },
    {
     "data": {
      "text/plain": [
       "<sqlalchemy.engine.cursor.LegacyCursorResult at 0x7fb04ad62c40>"
      ]
     },
     "execution_count": 25,
     "metadata": {},
     "output_type": "execute_result"
    }
   ],
   "source": [
    "query = \"ALTER TABLE credit_card_data DROP COLUMN balance_Q4\"\n",
    "conn.execute(query)"
   ]
  },
  {
   "cell_type": "code",
   "execution_count": 26,
   "metadata": {},
   "outputs": [
    {
     "name": "stdout",
     "output_type": "stream",
     "text": [
      "2022-04-02 13:44:34,383 INFO sqlalchemy.engine.Engine SELECT * FROM credit_card_data LIMIT 10\n",
      "2022-04-02 13:44:34,384 INFO sqlalchemy.engine.Engine [raw sql] {}\n"
     ]
    },
    {
     "data": {
      "text/html": [
       "<div>\n",
       "<style scoped>\n",
       "    .dataframe tbody tr th:only-of-type {\n",
       "        vertical-align: middle;\n",
       "    }\n",
       "\n",
       "    .dataframe tbody tr th {\n",
       "        vertical-align: top;\n",
       "    }\n",
       "\n",
       "    .dataframe thead th {\n",
       "        text-align: right;\n",
       "    }\n",
       "</style>\n",
       "<table border=\"1\" class=\"dataframe\">\n",
       "  <thead>\n",
       "    <tr style=\"text-align: right;\">\n",
       "      <th></th>\n",
       "      <th>customer_number</th>\n",
       "      <th>offer_accepted</th>\n",
       "      <th>reward</th>\n",
       "      <th>mailer_type</th>\n",
       "      <th>income_level</th>\n",
       "      <th>bank_accounts_open</th>\n",
       "      <th>overdraft_protection</th>\n",
       "      <th>credit_rating</th>\n",
       "      <th>credit_cards_held</th>\n",
       "      <th>homes_owned</th>\n",
       "      <th>household_size</th>\n",
       "      <th>home_owner</th>\n",
       "      <th>average_balance</th>\n",
       "      <th>balance_Q1</th>\n",
       "      <th>balance_Q2</th>\n",
       "      <th>balance_Q3</th>\n",
       "    </tr>\n",
       "  </thead>\n",
       "  <tbody>\n",
       "    <tr>\n",
       "      <th>0</th>\n",
       "      <td>1</td>\n",
       "      <td>No</td>\n",
       "      <td>Air Miles</td>\n",
       "      <td>Letter</td>\n",
       "      <td>High</td>\n",
       "      <td>1</td>\n",
       "      <td>No</td>\n",
       "      <td>High</td>\n",
       "      <td>2</td>\n",
       "      <td>1</td>\n",
       "      <td>4</td>\n",
       "      <td>No</td>\n",
       "      <td>1160.75</td>\n",
       "      <td>1669.0</td>\n",
       "      <td>877.0</td>\n",
       "      <td>1095.0</td>\n",
       "    </tr>\n",
       "    <tr>\n",
       "      <th>1</th>\n",
       "      <td>2</td>\n",
       "      <td>No</td>\n",
       "      <td>Air Miles</td>\n",
       "      <td>Letter</td>\n",
       "      <td>Medium</td>\n",
       "      <td>1</td>\n",
       "      <td>No</td>\n",
       "      <td>Medium</td>\n",
       "      <td>2</td>\n",
       "      <td>2</td>\n",
       "      <td>5</td>\n",
       "      <td>Yes</td>\n",
       "      <td>147.25</td>\n",
       "      <td>39.0</td>\n",
       "      <td>106.0</td>\n",
       "      <td>78.0</td>\n",
       "    </tr>\n",
       "    <tr>\n",
       "      <th>2</th>\n",
       "      <td>3</td>\n",
       "      <td>No</td>\n",
       "      <td>Air Miles</td>\n",
       "      <td>Postcard</td>\n",
       "      <td>High</td>\n",
       "      <td>2</td>\n",
       "      <td>No</td>\n",
       "      <td>Medium</td>\n",
       "      <td>2</td>\n",
       "      <td>1</td>\n",
       "      <td>2</td>\n",
       "      <td>Yes</td>\n",
       "      <td>276.50</td>\n",
       "      <td>367.0</td>\n",
       "      <td>352.0</td>\n",
       "      <td>145.0</td>\n",
       "    </tr>\n",
       "    <tr>\n",
       "      <th>3</th>\n",
       "      <td>4</td>\n",
       "      <td>No</td>\n",
       "      <td>Air Miles</td>\n",
       "      <td>Letter</td>\n",
       "      <td>Medium</td>\n",
       "      <td>2</td>\n",
       "      <td>No</td>\n",
       "      <td>High</td>\n",
       "      <td>1</td>\n",
       "      <td>1</td>\n",
       "      <td>4</td>\n",
       "      <td>No</td>\n",
       "      <td>1219.00</td>\n",
       "      <td>1578.0</td>\n",
       "      <td>1760.0</td>\n",
       "      <td>1119.0</td>\n",
       "    </tr>\n",
       "    <tr>\n",
       "      <th>4</th>\n",
       "      <td>5</td>\n",
       "      <td>No</td>\n",
       "      <td>Air Miles</td>\n",
       "      <td>Letter</td>\n",
       "      <td>Medium</td>\n",
       "      <td>1</td>\n",
       "      <td>No</td>\n",
       "      <td>Medium</td>\n",
       "      <td>2</td>\n",
       "      <td>1</td>\n",
       "      <td>6</td>\n",
       "      <td>Yes</td>\n",
       "      <td>1211.00</td>\n",
       "      <td>2140.0</td>\n",
       "      <td>1357.0</td>\n",
       "      <td>982.0</td>\n",
       "    </tr>\n",
       "  </tbody>\n",
       "</table>\n",
       "</div>"
      ],
      "text/plain": [
       "   customer_number offer_accepted     reward mailer_type income_level  \\\n",
       "0                1             No  Air Miles      Letter         High   \n",
       "1                2             No  Air Miles      Letter       Medium   \n",
       "2                3             No  Air Miles    Postcard         High   \n",
       "3                4             No  Air Miles      Letter       Medium   \n",
       "4                5             No  Air Miles      Letter       Medium   \n",
       "\n",
       "   bank_accounts_open overdraft_protection credit_rating  credit_cards_held  \\\n",
       "0                   1                   No          High                  2   \n",
       "1                   1                   No        Medium                  2   \n",
       "2                   2                   No        Medium                  2   \n",
       "3                   2                   No          High                  1   \n",
       "4                   1                   No        Medium                  2   \n",
       "\n",
       "   homes_owned  household_size home_owner  average_balance  balance_Q1  \\\n",
       "0            1               4         No          1160.75      1669.0   \n",
       "1            2               5        Yes           147.25        39.0   \n",
       "2            1               2        Yes           276.50       367.0   \n",
       "3            1               4         No          1219.00      1578.0   \n",
       "4            1               6        Yes          1211.00      2140.0   \n",
       "\n",
       "   balance_Q2  balance_Q3  \n",
       "0       877.0      1095.0  \n",
       "1       106.0        78.0  \n",
       "2       352.0       145.0  \n",
       "3      1760.0      1119.0  \n",
       "4      1357.0       982.0  "
      ]
     },
     "execution_count": 26,
     "metadata": {},
     "output_type": "execute_result"
    }
   ],
   "source": [
    "query = \"SELECT * FROM credit_card_data LIMIT 10\"\n",
    "top_ten = pd.read_sql_query(query, engine)\n",
    "top_ten.head()"
   ]
  },
  {
   "cell_type": "markdown",
   "metadata": {},
   "source": [
    "#### 6.  Use sql query to find how many rows of data you have."
   ]
  },
  {
   "cell_type": "code",
   "execution_count": 28,
   "metadata": {},
   "outputs": [
    {
     "name": "stdout",
     "output_type": "stream",
     "text": [
      "2022-04-02 13:48:51,342 INFO sqlalchemy.engine.Engine SELECT COUNT(*) AS number_of_rows FROM credit_card_data\n",
      "2022-04-02 13:48:51,343 INFO sqlalchemy.engine.Engine [raw sql] {}\n",
      "   number_of_rows\n",
      "0           18000\n"
     ]
    }
   ],
   "source": [
    "query = '''SELECT COUNT(*) AS number_of_rows \n",
    "           FROM credit_card_data'''\n",
    "           \n",
    "rows = pd.read_sql_query(query, engine)\n",
    "print(rows)"
   ]
  },
  {
   "cell_type": "markdown",
   "metadata": {},
   "source": [
    "#### 7.  Now we will try to find the unique values in some of the categorical columns:\n",
    "\n",
    "    - What are the unique values in the column `Offer_accepted`?"
   ]
  },
  {
   "cell_type": "code",
   "execution_count": 29,
   "metadata": {},
   "outputs": [
    {
     "name": "stdout",
     "output_type": "stream",
     "text": [
      "2022-04-02 13:49:56,593 INFO sqlalchemy.engine.Engine SELECT DISTINCT offer_accepted \n",
      "           FROM credit_card_data\n",
      "2022-04-02 13:49:56,594 INFO sqlalchemy.engine.Engine [raw sql] {}\n",
      "  offer_accepted\n",
      "0             No\n",
      "1            Yes\n"
     ]
    }
   ],
   "source": [
    "query = '''SELECT DISTINCT offer_accepted \n",
    "           FROM credit_card_data'''\n",
    "           \n",
    "unique_values = pd.read_sql_query(query, engine)\n",
    "print(unique_values)"
   ]
  },
  {
   "cell_type": "markdown",
   "metadata": {},
   "source": [
    "    - What are the unique values in the column `Reward`?"
   ]
  },
  {
   "cell_type": "code",
   "execution_count": 30,
   "metadata": {},
   "outputs": [
    {
     "name": "stdout",
     "output_type": "stream",
     "text": [
      "2022-04-02 13:50:12,174 INFO sqlalchemy.engine.Engine SELECT DISTINCT reward \n",
      "           FROM credit_card_data\n",
      "2022-04-02 13:50:12,175 INFO sqlalchemy.engine.Engine [raw sql] {}\n",
      "      reward\n",
      "0  Air Miles\n",
      "1  Cash Back\n",
      "2     Points\n"
     ]
    }
   ],
   "source": [
    "query = '''SELECT DISTINCT reward \n",
    "           FROM credit_card_data'''\n",
    "           \n",
    "unique_values = pd.read_sql_query(query, engine)\n",
    "print(unique_values)"
   ]
  },
  {
   "cell_type": "markdown",
   "metadata": {},
   "source": [
    "    - What are the unique values in the column `mailer_type`?"
   ]
  },
  {
   "cell_type": "code",
   "execution_count": 31,
   "metadata": {},
   "outputs": [
    {
     "name": "stdout",
     "output_type": "stream",
     "text": [
      "2022-04-02 13:50:25,005 INFO sqlalchemy.engine.Engine SELECT DISTINCT mailer_type \n",
      "           FROM credit_card_data\n",
      "2022-04-02 13:50:25,007 INFO sqlalchemy.engine.Engine [raw sql] {}\n",
      "  mailer_type\n",
      "0      Letter\n",
      "1    Postcard\n"
     ]
    }
   ],
   "source": [
    "query = '''SELECT DISTINCT mailer_type \n",
    "           FROM credit_card_data'''\n",
    "           \n",
    "unique_values = pd.read_sql_query(query, engine)\n",
    "print(unique_values)"
   ]
  },
  {
   "cell_type": "markdown",
   "metadata": {},
   "source": [
    "    - What are the unique values in the column `credit_cards_held`?"
   ]
  },
  {
   "cell_type": "code",
   "execution_count": 32,
   "metadata": {},
   "outputs": [
    {
     "name": "stdout",
     "output_type": "stream",
     "text": [
      "2022-04-02 13:50:56,353 INFO sqlalchemy.engine.Engine SELECT DISTINCT credit_cards_held \n",
      "           FROM credit_card_data\n",
      "2022-04-02 13:50:56,355 INFO sqlalchemy.engine.Engine [raw sql] {}\n",
      "   credit_cards_held\n",
      "0                  2\n",
      "1                  1\n",
      "2                  3\n",
      "3                  4\n"
     ]
    }
   ],
   "source": [
    "query = '''SELECT DISTINCT credit_cards_held \n",
    "           FROM credit_card_data'''\n",
    "           \n",
    "unique_values = pd.read_sql_query(query, engine)\n",
    "print(unique_values)"
   ]
  },
  {
   "cell_type": "markdown",
   "metadata": {},
   "source": [
    "    - What are the unique values in the column `household_size`?"
   ]
  },
  {
   "cell_type": "code",
   "execution_count": 45,
   "metadata": {},
   "outputs": [
    {
     "name": "stdout",
     "output_type": "stream",
     "text": [
      "2022-04-02 15:07:36,119 INFO sqlalchemy.engine.Engine SELECT DISTINCT household_size \n",
      "           FROM credit_card_data\n",
      "2022-04-02 15:07:36,120 INFO sqlalchemy.engine.Engine [raw sql] {}\n",
      "   household_size\n",
      "0               4\n",
      "1               5\n",
      "2               2\n",
      "3               6\n",
      "4               3\n",
      "5               1\n",
      "6               8\n",
      "7               9\n"
     ]
    }
   ],
   "source": [
    "query = '''SELECT DISTINCT household_size \n",
    "           FROM credit_card_data'''\n",
    "           \n",
    "unique_values = pd.read_sql_query(query, engine)\n",
    "print(unique_values)"
   ]
  },
  {
   "cell_type": "markdown",
   "metadata": {},
   "source": [
    "#### 8.  Arrange the data in a decreasing order by the `average_balance` of the house. Return only the `customer_number` of the top 10 customers with the highest `average_balances` in your data."
   ]
  },
  {
   "cell_type": "code",
   "execution_count": 47,
   "metadata": {},
   "outputs": [
    {
     "name": "stdout",
     "output_type": "stream",
     "text": [
      "2022-04-02 15:09:52,643 INFO sqlalchemy.engine.Engine SELECT customer_number\n",
      "FROM credit_card_data\n",
      "ORDER BY average_balance DESC\n",
      "LIMIT 10\n",
      "2022-04-02 15:09:52,644 INFO sqlalchemy.engine.Engine [raw sql] {}\n",
      "   customer_number\n",
      "0             2297\n",
      "1            12636\n",
      "2             8888\n",
      "3            10577\n",
      "4            14004\n",
      "5            10476\n",
      "6             2656\n",
      "7            15260\n",
      "8            15609\n",
      "9             8778\n"
     ]
    }
   ],
   "source": [
    "query = '''SELECT customer_number\n",
    "FROM credit_card_data\n",
    "ORDER BY average_balance DESC\n",
    "LIMIT 10'''\n",
    "\n",
    "customers = pd.read_sql_query(query, engine)\n",
    "print(customers)"
   ]
  },
  {
   "cell_type": "markdown",
   "metadata": {},
   "source": [
    "#### 9.  What is the average balance of all the customers in your data?"
   ]
  },
  {
   "cell_type": "code",
   "execution_count": 48,
   "metadata": {},
   "outputs": [
    {
     "name": "stdout",
     "output_type": "stream",
     "text": [
      "2022-04-02 15:11:07,227 INFO sqlalchemy.engine.Engine SELECT ROUND(AVG(average_balance), 1) AS average_balance\n",
      "FROM credit_card_data\n",
      "2022-04-02 15:11:07,228 INFO sqlalchemy.engine.Engine [raw sql] {}\n",
      "   average_balance\n",
      "0            939.3\n"
     ]
    }
   ],
   "source": [
    "query = '''SELECT ROUND(AVG(average_balance), 1) AS average_balance\n",
    "FROM credit_card_data'''\n",
    "\n",
    "avg_balance = pd.read_sql_query(query, engine)\n",
    "print(avg_balance)"
   ]
  },
  {
   "cell_type": "markdown",
   "metadata": {},
   "source": [
    "#### 10. In this exercise we will use simple group by to check the properties of some of the categorical variables in our data. Note wherever `average_balance` is asked, please take the average of the column `average_balance`: \n",
    "\n",
    "    - What is the average balance of the customers grouped by `Income Level`? The returned result should have only two columns, income level and `Average balance` of the customers. Use an alias to change the name of the second column."
   ]
  },
  {
   "cell_type": "code",
   "execution_count": 51,
   "metadata": {},
   "outputs": [
    {
     "name": "stdout",
     "output_type": "stream",
     "text": [
      "2022-04-02 15:44:26,184 INFO sqlalchemy.engine.Engine SELECT income_level, ROUND(AVG(average_balance), 1) AS avg_balance\n",
      "FROM credit_card_data\n",
      "GROUP BY income_level\n",
      "2022-04-02 15:44:26,186 INFO sqlalchemy.engine.Engine [raw sql] {}\n",
      "  income_level  avg_balance\n",
      "0         High        941.1\n",
      "1       Medium        939.7\n",
      "2          Low        936.4\n"
     ]
    }
   ],
   "source": [
    "query = '''SELECT income_level, ROUND(AVG(average_balance), 1) AS avg_balance\n",
    "FROM credit_card_data\n",
    "GROUP BY income_level'''\n",
    "\n",
    "avg_balance_per_income = pd.read_sql_query(query, engine)\n",
    "print(avg_balance_per_income)"
   ]
  },
  {
   "cell_type": "markdown",
   "metadata": {},
   "source": [
    "    - What is the average balance of the customers grouped by `number_of_bank_accounts_open`? The returned result should have only two columns, `number_of_bank_accounts_open` and `Average balance` of the customers. Use an alias to change the name of the second column."
   ]
  },
  {
   "cell_type": "code",
   "execution_count": 52,
   "metadata": {},
   "outputs": [
    {
     "name": "stdout",
     "output_type": "stream",
     "text": [
      "2022-04-02 15:45:57,615 INFO sqlalchemy.engine.Engine SELECT bank_accounts_open, ROUND(AVG(average_balance), 1) AS avg_balance\n",
      "FROM credit_card_data\n",
      "GROUP BY bank_accounts_open\n",
      "2022-04-02 15:45:57,616 INFO sqlalchemy.engine.Engine [raw sql] {}\n",
      "   bank_accounts_open  avg_balance\n",
      "0                   1        940.3\n",
      "1                   2        935.3\n",
      "2                   3        945.1\n"
     ]
    }
   ],
   "source": [
    "query = '''SELECT bank_accounts_open, ROUND(AVG(average_balance), 1) AS avg_balance\n",
    "FROM credit_card_data\n",
    "GROUP BY bank_accounts_open'''\n",
    "\n",
    "avg_balance_per_bank_accounts = pd.read_sql_query(query, engine)\n",
    "print(avg_balance_per_bank_accounts)"
   ]
  },
  {
   "cell_type": "markdown",
   "metadata": {},
   "source": [
    "    - What is the average number of credit cards held by customers for each of the credit card ratings? The returned result should have only two columns, rating and average number of credit cards held. Use an alias to change the name of the second column."
   ]
  },
  {
   "cell_type": "code",
   "execution_count": 55,
   "metadata": {},
   "outputs": [
    {
     "name": "stdout",
     "output_type": "stream",
     "text": [
      "2022-04-02 15:51:45,737 INFO sqlalchemy.engine.Engine SELECT credit_rating, ROUND(AVG(credit_cards_held), 1) AS avg_number_of_cards\n",
      "FROM credit_card_data\n",
      "GROUP BY credit_rating\n",
      "2022-04-02 15:51:45,738 INFO sqlalchemy.engine.Engine [raw sql] {}\n",
      "  credit_rating  avg_number_of_cards\n",
      "0          High                  1.9\n",
      "1        Medium                  1.9\n",
      "2           Low                  1.9\n"
     ]
    }
   ],
   "source": [
    "query = '''SELECT credit_rating, ROUND(AVG(credit_cards_held), 1) AS avg_number_of_cards\n",
    "FROM credit_card_data\n",
    "GROUP BY credit_rating'''\n",
    "\n",
    "avg_balance_per_credit_rating = pd.read_sql_query(query, engine)\n",
    "print(avg_balance_per_credit_rating)"
   ]
  },
  {
   "cell_type": "markdown",
   "metadata": {},
   "source": [
    "    - Is there any correlation between the columns `credit_cards_held` and `number_of_bank_accounts_open`? You can analyse this by grouping the data by one of the variables and then aggregating the results of the other column. Visually check if there is a positive correlation or negative correlation or no correlation between the variables."
   ]
  },
  {
   "cell_type": "code",
   "execution_count": 56,
   "metadata": {},
   "outputs": [
    {
     "name": "stdout",
     "output_type": "stream",
     "text": [
      "2022-04-02 16:03:14,471 INFO sqlalchemy.engine.Engine SELECT bank_accounts_open, ROUND(AVG(credit_cards_held), 1) AS avg_number_of_cards\n",
      "FROM credit_card_data\n",
      "GROUP BY bank_accounts_open\n",
      "2022-04-02 16:03:14,472 INFO sqlalchemy.engine.Engine [raw sql] {}\n",
      "   bank_accounts_open  avg_number_of_cards\n",
      "0                   1                  1.9\n",
      "1                   2                  1.9\n",
      "2                   3                  1.9\n"
     ]
    }
   ],
   "source": [
    "query = '''SELECT bank_accounts_open, ROUND(AVG(credit_cards_held), 1) AS avg_number_of_cards\n",
    "FROM credit_card_data\n",
    "GROUP BY bank_accounts_open'''\n",
    "\n",
    "cc_held_per_bank_accounts_open = pd.read_sql_query(query, engine)\n",
    "print(cc_held_per_bank_accounts_open)"
   ]
  },
  {
   "cell_type": "markdown",
   "metadata": {},
   "source": [
    "#### 11. Your managers are only interested in the customers with the following properties:\n",
    "\n",
    "    - Credit rating medium or high\n",
    "    - Credit cards held 2 or less\n",
    "    - Owns their own home\n",
    "    - Household size 3 or more\n",
    "\n",
    "For the rest of the things, they are not too concerned. Write a simple query to find what are the options available for them? Can you filter the customers who accepted the offers here?"
   ]
  },
  {
   "cell_type": "code",
   "execution_count": 58,
   "metadata": {},
   "outputs": [
    {
     "name": "stdout",
     "output_type": "stream",
     "text": [
      "2022-04-02 16:08:40,130 INFO sqlalchemy.engine.Engine SELECT *\n",
      "FROM credit_card_data\n",
      "WHERE (credit_rating = 'Medium' OR credit_rating = 'High') AND\n",
      "credit_cards_held <= 2 AND\n",
      "home_owner = 'Yes' AND \n",
      "household_size >= 3\n",
      "\n",
      "2022-04-02 16:08:40,131 INFO sqlalchemy.engine.Engine [raw sql] {}\n"
     ]
    },
    {
     "data": {
      "text/html": [
       "<div>\n",
       "<style scoped>\n",
       "    .dataframe tbody tr th:only-of-type {\n",
       "        vertical-align: middle;\n",
       "    }\n",
       "\n",
       "    .dataframe tbody tr th {\n",
       "        vertical-align: top;\n",
       "    }\n",
       "\n",
       "    .dataframe thead th {\n",
       "        text-align: right;\n",
       "    }\n",
       "</style>\n",
       "<table border=\"1\" class=\"dataframe\">\n",
       "  <thead>\n",
       "    <tr style=\"text-align: right;\">\n",
       "      <th></th>\n",
       "      <th>customer_number</th>\n",
       "      <th>offer_accepted</th>\n",
       "      <th>reward</th>\n",
       "      <th>mailer_type</th>\n",
       "      <th>income_level</th>\n",
       "      <th>bank_accounts_open</th>\n",
       "      <th>overdraft_protection</th>\n",
       "      <th>credit_rating</th>\n",
       "      <th>credit_cards_held</th>\n",
       "      <th>homes_owned</th>\n",
       "      <th>household_size</th>\n",
       "      <th>home_owner</th>\n",
       "      <th>average_balance</th>\n",
       "      <th>balance_Q1</th>\n",
       "      <th>balance_Q2</th>\n",
       "      <th>balance_Q3</th>\n",
       "    </tr>\n",
       "  </thead>\n",
       "  <tbody>\n",
       "    <tr>\n",
       "      <th>0</th>\n",
       "      <td>2</td>\n",
       "      <td>No</td>\n",
       "      <td>Air Miles</td>\n",
       "      <td>Letter</td>\n",
       "      <td>Medium</td>\n",
       "      <td>1</td>\n",
       "      <td>No</td>\n",
       "      <td>Medium</td>\n",
       "      <td>2</td>\n",
       "      <td>2</td>\n",
       "      <td>5</td>\n",
       "      <td>Yes</td>\n",
       "      <td>147.25</td>\n",
       "      <td>39.0</td>\n",
       "      <td>106.0</td>\n",
       "      <td>78.0</td>\n",
       "    </tr>\n",
       "    <tr>\n",
       "      <th>1</th>\n",
       "      <td>5</td>\n",
       "      <td>No</td>\n",
       "      <td>Air Miles</td>\n",
       "      <td>Letter</td>\n",
       "      <td>Medium</td>\n",
       "      <td>1</td>\n",
       "      <td>No</td>\n",
       "      <td>Medium</td>\n",
       "      <td>2</td>\n",
       "      <td>1</td>\n",
       "      <td>6</td>\n",
       "      <td>Yes</td>\n",
       "      <td>1211.00</td>\n",
       "      <td>2140.0</td>\n",
       "      <td>1357.0</td>\n",
       "      <td>982.0</td>\n",
       "    </tr>\n",
       "    <tr>\n",
       "      <th>2</th>\n",
       "      <td>17</td>\n",
       "      <td>No</td>\n",
       "      <td>Points</td>\n",
       "      <td>Postcard</td>\n",
       "      <td>Low</td>\n",
       "      <td>2</td>\n",
       "      <td>No</td>\n",
       "      <td>Medium</td>\n",
       "      <td>1</td>\n",
       "      <td>1</td>\n",
       "      <td>4</td>\n",
       "      <td>Yes</td>\n",
       "      <td>1217.00</td>\n",
       "      <td>567.0</td>\n",
       "      <td>1161.0</td>\n",
       "      <td>966.0</td>\n",
       "    </tr>\n",
       "    <tr>\n",
       "      <th>3</th>\n",
       "      <td>18</td>\n",
       "      <td>No</td>\n",
       "      <td>Air Miles</td>\n",
       "      <td>Postcard</td>\n",
       "      <td>Low</td>\n",
       "      <td>2</td>\n",
       "      <td>No</td>\n",
       "      <td>High</td>\n",
       "      <td>2</td>\n",
       "      <td>1</td>\n",
       "      <td>4</td>\n",
       "      <td>Yes</td>\n",
       "      <td>1185.25</td>\n",
       "      <td>272.0</td>\n",
       "      <td>1523.0</td>\n",
       "      <td>2042.0</td>\n",
       "    </tr>\n",
       "    <tr>\n",
       "      <th>4</th>\n",
       "      <td>20</td>\n",
       "      <td>No</td>\n",
       "      <td>Cash Back</td>\n",
       "      <td>Letter</td>\n",
       "      <td>Medium</td>\n",
       "      <td>1</td>\n",
       "      <td>No</td>\n",
       "      <td>High</td>\n",
       "      <td>2</td>\n",
       "      <td>1</td>\n",
       "      <td>5</td>\n",
       "      <td>Yes</td>\n",
       "      <td>1086.75</td>\n",
       "      <td>764.0</td>\n",
       "      <td>997.0</td>\n",
       "      <td>921.0</td>\n",
       "    </tr>\n",
       "  </tbody>\n",
       "</table>\n",
       "</div>"
      ],
      "text/plain": [
       "   customer_number offer_accepted     reward mailer_type income_level  \\\n",
       "0                2             No  Air Miles      Letter       Medium   \n",
       "1                5             No  Air Miles      Letter       Medium   \n",
       "2               17             No     Points    Postcard          Low   \n",
       "3               18             No  Air Miles    Postcard          Low   \n",
       "4               20             No  Cash Back      Letter       Medium   \n",
       "\n",
       "   bank_accounts_open overdraft_protection credit_rating  credit_cards_held  \\\n",
       "0                   1                   No        Medium                  2   \n",
       "1                   1                   No        Medium                  2   \n",
       "2                   2                   No        Medium                  1   \n",
       "3                   2                   No          High                  2   \n",
       "4                   1                   No          High                  2   \n",
       "\n",
       "   homes_owned  household_size home_owner  average_balance  balance_Q1  \\\n",
       "0            2               5        Yes           147.25        39.0   \n",
       "1            1               6        Yes          1211.00      2140.0   \n",
       "2            1               4        Yes          1217.00       567.0   \n",
       "3            1               4        Yes          1185.25       272.0   \n",
       "4            1               5        Yes          1086.75       764.0   \n",
       "\n",
       "   balance_Q2  balance_Q3  \n",
       "0       106.0        78.0  \n",
       "1      1357.0       982.0  \n",
       "2      1161.0       966.0  \n",
       "3      1523.0      2042.0  \n",
       "4       997.0       921.0  "
      ]
     },
     "execution_count": 58,
     "metadata": {},
     "output_type": "execute_result"
    }
   ],
   "source": [
    "query = '''SELECT *\n",
    "FROM credit_card_data\n",
    "WHERE (credit_rating = 'Medium' OR credit_rating = 'High') AND\n",
    "credit_cards_held <= 2 AND\n",
    "home_owner = 'Yes' AND \n",
    "household_size >= 3\n",
    "'''\n",
    "\n",
    "relevant_data = pd.read_sql_query(query, engine)\n",
    "relevant_data.head()"
   ]
  },
  {
   "cell_type": "markdown",
   "metadata": {},
   "source": [
    "#### 12. Your managers want to find out the list of customers whose average balance is less than the average balance of all the customers in the database. Write a query to show them the list of such customers. You might need to use a subquery for this problem."
   ]
  },
  {
   "cell_type": "code",
   "execution_count": 61,
   "metadata": {},
   "outputs": [
    {
     "name": "stdout",
     "output_type": "stream",
     "text": [
      "2022-04-02 16:12:06,646 INFO sqlalchemy.engine.Engine SELECT customer_number, average_balance\n",
      "FROM credit_card_data\n",
      "WHERE average_balance < (SELECT AVG(average_balance) FROM credit_card_data)\n",
      "2022-04-02 16:12:06,647 INFO sqlalchemy.engine.Engine [raw sql] {}\n"
     ]
    },
    {
     "data": {
      "text/plain": [
       "939.25"
      ]
     },
     "execution_count": 61,
     "metadata": {},
     "output_type": "execute_result"
    }
   ],
   "source": [
    "query = '''SELECT customer_number, average_balance\n",
    "FROM credit_card_data\n",
    "WHERE average_balance < (SELECT AVG(average_balance) FROM credit_card_data)'''\n",
    "\n",
    "lower_than_avg = pd.read_sql_query(query, engine)\n",
    "\n",
    "# Check the filtering worked correctly\n",
    "max(lower_than_avg.average_balance)"
   ]
  },
  {
   "cell_type": "markdown",
   "metadata": {},
   "source": [
    "#### 13. Since this is something that the senior management is regularly interested in, create a view of the same query."
   ]
  },
  {
   "cell_type": "code",
   "execution_count": 62,
   "metadata": {},
   "outputs": [],
   "source": [
    "query = '''CREATE VIEW low_balance_customers AS\n",
    "SELECT customer_number, average_balance\n",
    "FROM credit_card_data\n",
    "WHERE average_balance < (SELECT AVG(average_balance) FROM credit_card_data)'''"
   ]
  },
  {
   "cell_type": "markdown",
   "metadata": {},
   "source": [
    "#### 14. What is the number of people who accepted the offer vs number of people who did not?"
   ]
  },
  {
   "cell_type": "code",
   "execution_count": 70,
   "metadata": {},
   "outputs": [
    {
     "name": "stdout",
     "output_type": "stream",
     "text": [
      "16977 clients rejected the offer\n",
      "1023 clients accepted the offer\n"
     ]
    }
   ],
   "source": [
    "rejected = data.offer_accepted.value_counts().loc['No']\n",
    "accepted = data.offer_accepted.value_counts().loc['Yes']\n",
    "\n",
    "print(rejected, \"clients rejected the offer\")\n",
    "print(accepted, \"clients accepted the offer\")"
   ]
  },
  {
   "cell_type": "markdown",
   "metadata": {},
   "source": [
    "#### 15. Your managers are more interested in customers with a credit rating of high or medium. What is the difference in average balances of the customers with high credit card rating and low credit card rating?"
   ]
  },
  {
   "cell_type": "code",
   "execution_count": 71,
   "metadata": {},
   "outputs": [
    {
     "name": "stdout",
     "output_type": "stream",
     "text": [
      "2022-04-02 16:24:58,410 INFO sqlalchemy.engine.Engine SELECT credit_rating, ROUND(AVG(average_balance), 1) AS avg_balance\n",
      "FROM credit_card_data\n",
      "WHERE credit_rating = 'High' OR credit_rating = 'Low' \n",
      "GROUP BY credit_rating\n",
      "2022-04-02 16:24:58,411 INFO sqlalchemy.engine.Engine [raw sql] {}\n",
      "  credit_rating  avg_balance\n",
      "0          High        943.3\n",
      "1           Low        938.9\n"
     ]
    }
   ],
   "source": [
    "query = '''SELECT credit_rating, ROUND(AVG(average_balance), 1) AS avg_balance\n",
    "FROM credit_card_data\n",
    "WHERE credit_rating = 'High' OR credit_rating = 'Low' \n",
    "GROUP BY credit_rating'''\n",
    "\n",
    "avg_balance_per_rating = pd.read_sql_query(query, engine)\n",
    "print(avg_balance_per_rating)"
   ]
  },
  {
   "cell_type": "code",
   "execution_count": 76,
   "metadata": {},
   "outputs": [
    {
     "name": "stdout",
     "output_type": "stream",
     "text": [
      "4.4\n"
     ]
    }
   ],
   "source": [
    "difference = avg_balance_per_rating.iloc[0, 1] - \\\n",
    "    avg_balance_per_rating.iloc[1, 1]\n",
    "\n",
    "print(round(difference, 1))"
   ]
  },
  {
   "cell_type": "markdown",
   "metadata": {},
   "source": [
    "#### 16. In the database, which all types of communication (`mailer_type`) were used and with how many customers?"
   ]
  },
  {
   "cell_type": "code",
   "execution_count": 77,
   "metadata": {},
   "outputs": [
    {
     "name": "stdout",
     "output_type": "stream",
     "text": [
      "Postcard    9147\n",
      "Letter      8853\n",
      "Name: mailer_type, dtype: int64\n"
     ]
    }
   ],
   "source": [
    "print(data.mailer_type.value_counts())"
   ]
  },
  {
   "cell_type": "markdown",
   "metadata": {},
   "source": [
    "#### 17. Provide the details of the customer that is the 11th least `Q1_balance` in your database."
   ]
  },
  {
   "cell_type": "code",
   "execution_count": 80,
   "metadata": {},
   "outputs": [
    {
     "name": "stdout",
     "output_type": "stream",
     "text": [
      "2022-04-02 17:02:52,197 INFO sqlalchemy.engine.Engine SELECT * \n",
      "FROM\n",
      "(SELECT *,\n",
      "DENSE_RANK() OVER(ORDER BY balance_Q1 ASC) AS Q1_balance_ranking\n",
      "FROM credit_card_data) AS ranked_data\n",
      "WHERE Q1_balance_ranking = 11;\n",
      "\n",
      "2022-04-02 17:02:52,198 INFO sqlalchemy.engine.Engine [raw sql] {}\n",
      "   customer_number offer_accepted     reward mailer_type income_level  \\\n",
      "0            12905            Yes     Points    Postcard          Low   \n",
      "1            16031             No  Air Miles      Letter          Low   \n",
      "2             3542             No     Points    Postcard       Medium   \n",
      "\n",
      "   bank_accounts_open overdraft_protection credit_rating  credit_cards_held  \\\n",
      "0                   1                   No           Low                  1   \n",
      "1                   1                   No          High                  2   \n",
      "2                   2                   No        Medium                  3   \n",
      "\n",
      "   homes_owned  household_size home_owner  average_balance  balance_Q1  \\\n",
      "0            1               2        Yes           124.25        10.0   \n",
      "1            1               5         No          1058.75        10.0   \n",
      "2            1               1         No           111.50        10.0   \n",
      "\n",
      "   balance_Q2  balance_Q3  Q1_balance_ranking  \n",
      "0        26.0       318.0                  11  \n",
      "1      1184.0      1935.0                  11  \n",
      "2       115.0       286.0                  11  \n"
     ]
    }
   ],
   "source": [
    "query = '''SELECT * \n",
    "FROM\n",
    "(SELECT *,\n",
    "DENSE_RANK() OVER(ORDER BY balance_Q1 ASC) AS Q1_balance_ranking\n",
    "FROM credit_card_data) AS ranked_data\n",
    "WHERE Q1_balance_ranking = 11;\n",
    "'''\n",
    "\n",
    "customer_info = pd.read_sql_query(query, engine)\n",
    "print(customer_info) # There are multiple customers with the 11th least Q1 balance"
   ]
  }
 ],
 "metadata": {
  "interpreter": {
   "hash": "916dbcbb3f70747c44a77c7bcd40155683ae19c65e1c03b4aa3499c5328201f1"
  },
  "kernelspec": {
   "display_name": "Python 3.8.10 64-bit",
   "language": "python",
   "name": "python3"
  },
  "language_info": {
   "codemirror_mode": {
    "name": "ipython",
    "version": 3
   },
   "file_extension": ".py",
   "mimetype": "text/x-python",
   "name": "python",
   "nbconvert_exporter": "python",
   "pygments_lexer": "ipython3",
   "version": "3.8.10"
  },
  "orig_nbformat": 4
 },
 "nbformat": 4,
 "nbformat_minor": 2
}
