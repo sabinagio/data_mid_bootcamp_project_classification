{
  "cells": [
    {
      "cell_type": "code",
      "execution_count": 10,
      "metadata": {
        "id": "HdH9WPH-k4z1"
      },
      "outputs": [],
      "source": [
        "# Import libraries\n",
        "import pandas as pd\n",
        "import numpy as np\n",
        "import matplotlib.pyplot as plt\n",
        "import seaborn as sns\n",
        "import scipy.stats as stats\n",
        "from sklearn.preprocessing import MinMaxScaler\n",
        "\n",
        "from sklearn.model_selection import train_test_split\n",
        "from sklearn.linear_model import LogisticRegression\n",
        "from sklearn.metrics import confusion_matrix\n",
        "from sklearn.neighbors import KNeighborsClassifier\n",
        "from imblearn.over_sampling import SMOTE\n",
        "\n",
        "pd.set_option('display.max_columns', None)\n",
        "pd.set_option('display.max_rows', None)"
      ]
    },
    {
      "cell_type": "code",
      "execution_count": 11,
      "metadata": {
        "id": "hcd6AUb5xKrS"
      },
      "outputs": [],
      "source": [
        "# Read cleanest data\n",
        "path = '/home/sabina/Downloads/Ironhack/Unit 5/data_mid_bootcamp_project_classification/data/creditcardmarketing_post_cleaning.csv'\n",
        "data = pd.read_csv(path, index_col='customer_number')"
      ]
    },
    {
      "cell_type": "markdown",
      "metadata": {
        "id": "6xH39Vqzk4z5"
      },
      "source": [
        "### 4. Modelling & Evaluation"
      ]
    },
    {
      "cell_type": "markdown",
      "metadata": {
        "id": "DH-vhaYOAmWU"
      },
      "source": [
        "#### 4.1. Define scaling, normalizing & encoding functions"
      ]
    },
    {
      "cell_type": "markdown",
      "metadata": {
        "id": "4rCSVCOjAimw"
      },
      "source": [
        "##### 4.1.1. Data Scaling"
      ]
    },
    {
      "cell_type": "code",
      "execution_count": 12,
      "metadata": {
        "id": "p_jfNm3wk4z7"
      },
      "outputs": [],
      "source": [
        "def normalize_data(df):\n",
        "    num = df.select_dtypes(np.number)\n",
        "    transformer = MinMaxScaler().fit(num) \n",
        "    x_minmax = transformer.transform(num)\n",
        "    num_norm = pd.DataFrame(x_minmax, columns=num.columns, index=num.index)\n",
        "    return num_norm"
      ]
    },
    {
      "cell_type": "markdown",
      "metadata": {
        "id": "octwHkkzk4z7"
      },
      "source": [
        "##### 4.1.2. Box-Cox transformation"
      ]
    },
    {
      "cell_type": "code",
      "execution_count": 13,
      "metadata": {
        "id": "r-6EDUTYk4z8"
      },
      "outputs": [],
      "source": [
        "def boxcox_transform(data):\n",
        "    numeric_cols = data.select_dtypes(np.number).columns\n",
        "    _ci = {column: None for column in numeric_cols}\n",
        "    for column in numeric_cols:\n",
        "        if len(data[column].unique()) < 100:\n",
        "            continue\n",
        "        else:\n",
        "            data[column] = np.where(data[column] <= 0, np.NAN, data[column]) \n",
        "            data[column] = data[column].fillna(data[column].median())\n",
        "            transformed_data, ci = stats.boxcox(data[column])\n",
        "            data[column] = transformed_data\n",
        "            _ci[column] = [ci] \n",
        "    return data"
      ]
    },
    {
      "cell_type": "markdown",
      "metadata": {
        "id": "xUXhhWRTk4z9"
      },
      "source": [
        "##### 4.1.3. Remove outliers"
      ]
    },
    {
      "cell_type": "code",
      "execution_count": 14,
      "metadata": {
        "id": "tdZJJbbtk4z9"
      },
      "outputs": [],
      "source": [
        "def remove_outliers(df, threshold=1.5):\n",
        "    numerical = df.select_dtypes(np.number)\n",
        "    columns = numerical.columns\n",
        "    for column in columns:\n",
        "        if len(df[column].unique()) < 100:\n",
        "            continue\n",
        "        else:\n",
        "            upper = np.percentile(df[column], 75)\n",
        "            lower = np.percentile(df[column], 25)\n",
        "            iqr = upper - lower\n",
        "            upper_limit = upper + threshold * iqr\n",
        "            lower_limit = lower - threshold * iqr\n",
        "            df = df[(df[column]>lower_limit) & (df[column]<upper_limit)]\n",
        "    return df"
      ]
    },
    {
      "cell_type": "markdown",
      "metadata": {
        "id": "3KPAl9Pbk4z-"
      },
      "source": [
        "##### 4.1.4. Encode categorical data (`get_dummies`)"
      ]
    },
    {
      "cell_type": "code",
      "execution_count": 15,
      "metadata": {
        "id": "Bx1bDJMVk4z_"
      },
      "outputs": [],
      "source": [
        "def encode_cat(df, target):\n",
        "    cat = df.select_dtypes(object)\n",
        "    y = cat[target]\n",
        "    cat.drop(target, axis=1, inplace=True)\n",
        "    cat = pd.get_dummies(cat, columns=cat.columns, drop_first=True)\n",
        "    cat = pd.concat([cat, y], axis=1)\n",
        "    return cat"
      ]
    },
    {
      "cell_type": "markdown",
      "metadata": {
        "id": "EKHbBEvuk40A"
      },
      "source": [
        "##### 4.1.5. Concatenate numerical and categorical data"
      ]
    },
    {
      "cell_type": "code",
      "execution_count": 16,
      "metadata": {
        "id": "cSGneZIuk40A"
      },
      "outputs": [],
      "source": [
        "def new_df(num, cat):\n",
        "    new_df = pd.concat([num, cat], axis=1)\n",
        "    return new_df"
      ]
    },
    {
      "cell_type": "markdown",
      "metadata": {
        "id": "e8Uq7Dwak40B"
      },
      "source": [
        "#### 4.2. Define evaluating functions"
      ]
    },
    {
      "cell_type": "code",
      "execution_count": 17,
      "metadata": {
        "id": "iiTNKhYIk40B"
      },
      "outputs": [],
      "source": [
        "def classification_model(df, target, model, balance=None):\n",
        "    y = df[target]\n",
        "    X = df.drop(target, axis=1)\n",
        "    X_train, X_test, y_train, y_test = train_test_split(X, y, \\\n",
        "        test_size=0.3, random_state=42)\n",
        "    if balance == None:\n",
        "        pass\n",
        "    elif balance == \"after\":\n",
        "        smote = SMOTE()\n",
        "        X_train, y_train = smote.fit_resample(X_train, y_train)\n",
        "    else:\n",
        "        raise KeyError \n",
        "       \n",
        "    model = model\n",
        "    model.fit(X_train, y_train)\n",
        "    predictions = model.predict(X_test)        \n",
        "    cm = confusion_matrix(y_test, predictions)\n",
        "    sns.heatmap(cm, annot=True, fmt='g', xticklabels=[\"No\", \"Yes\"], \\\n",
        "        yticklabels=[\"No\", \"Yes\"])\n",
        "    plt.show()\n",
        "    rejected_offers = round(cm[0][0] * 100 / sum(cm[0]), 2)\n",
        "    print(\"Rejected offers prediction accuracy:\", rejected_offers, \"%\")\n",
        "    accepted_offers = round(cm[1][1] * 100 / sum(cm[1]), 2)  \n",
        "    print(\"Accepted offers prediction accuracy:\", accepted_offers, \"%\")"
      ]
    },
    {
      "cell_type": "code",
      "execution_count": 18,
      "metadata": {},
      "outputs": [],
      "source": [
        "regression_model = LogisticRegression(random_state=0, multi_class='ovr')"
      ]
    },
    {
      "cell_type": "markdown",
      "metadata": {
        "id": "h0kL34_hk40D"
      },
      "source": [
        "#### 4.3. Optimize model for the `offer_accepted`"
      ]
    },
    {
      "cell_type": "markdown",
      "metadata": {
        "id": "h3-N8SzlDwK_"
      },
      "source": [
        "##### 4.3.1. Use a mixture of transformations on the data excluding quarterly balances:"
      ]
    },
    {
      "cell_type": "markdown",
      "metadata": {},
      "source": [
        "##### 4.3.1.1. All transformations"
      ]
    },
    {
      "cell_type": "code",
      "execution_count": 19,
      "metadata": {
        "colab": {
          "base_uri": "https://localhost:8080/",
          "height": 480
        },
        "id": "62gH6tphk40D",
        "outputId": "4a417c4e-b186-45bc-fdaf-c66fed38c97d"
      },
      "outputs": [
        {
          "name": "stderr",
          "output_type": "stream",
          "text": [
            "/home/sabina/.local/lib/python3.8/site-packages/pandas/core/frame.py:4906: SettingWithCopyWarning: \n",
            "A value is trying to be set on a copy of a slice from a DataFrame\n",
            "\n",
            "See the caveats in the documentation: https://pandas.pydata.org/pandas-docs/stable/user_guide/indexing.html#returning-a-view-versus-a-copy\n",
            "  return super().drop(\n"
          ]
        }
      ],
      "source": [
        "data_1 = data.copy()\n",
        "\n",
        "# 0. Drop quarterly balances\n",
        "to_drop = ['balance_Q1', 'balance_Q2', 'balance_Q3', 'balance_Q4']\n",
        "data_1.drop(to_drop, axis=1, inplace=True)\n",
        "\n",
        "# 1. Remove outliers\n",
        "data_1 = remove_outliers(data_1)\n",
        "\n",
        "# 2. Box-Cox transform\n",
        "data_1 = boxcox_transform(data_1)\n",
        "\n",
        "# 3. Scale numerical data\n",
        "num_norm_1 = normalize_data(data_1)\n",
        "\n",
        "# 4. Encode categorical data\n",
        "cat_1 = encode_cat(data_1, 'offer_accepted')\n",
        "\n",
        "# 5. Merge numerical & categorical data\n",
        "new_df_1 = new_df(num_norm_1, cat_1)"
      ]
    },
    {
      "cell_type": "markdown",
      "metadata": {},
      "source": [
        "a. Logistic Regression"
      ]
    },
    {
      "cell_type": "code",
      "execution_count": 20,
      "metadata": {},
      "outputs": [
        {
          "data": {
            "image/png": "[encoded data removed]",
            "text/plain": [
              "<Figure size 432x288 with 2 Axes>"
            ]
          },
          "metadata": {
            "needs_background": "light"
          },
          "output_type": "display_data"
        },
        {
          "name": "stdout",
          "output_type": "stream",
          "text": [
            "Rejected offers prediction accuracy: 100.0 %\n",
            "Accepted offers prediction accuracy: 0.0 %\n"
          ]
        }
      ],
      "source": [
        "classification_model(new_df_1, 'offer_accepted', regression_model, balance=None)"
      ]
    },
    {
      "cell_type": "markdown",
      "metadata": {},
      "source": [
        "We notice that the model incorrectly predicts when the offer will be accepted 100% of the time - therefore, we need to deal with the data imbalance before running the model."
      ]
    },
    {
      "cell_type": "markdown",
      "metadata": {},
      "source": [
        "b. Logistic Regression + SMOTE"
      ]
    },
    {
      "cell_type": "code",
      "execution_count": 21,
      "metadata": {},
      "outputs": [
        {
          "data": {
            "image/png": "[encoded data removed]",
            "text/plain": [
              "<Figure size 432x288 with 2 Axes>"
            ]
          },
          "metadata": {
            "needs_background": "light"
          },
          "output_type": "display_data"
        },
        {
          "name": "stdout",
          "output_type": "stream",
          "text": [
            "Rejected offers prediction accuracy: 68.59 %\n",
            "Accepted offers prediction accuracy: 67.9 %\n"
          ]
        }
      ],
      "source": [
        "classification_model(new_df_1, 'offer_accepted', regression_model, balance=\"after\")"
      ]
    },
    {
      "cell_type": "markdown",
      "metadata": {},
      "source": [
        "The prediction accuracy is lower in the SMOTE approach, but it is more balanced."
      ]
    },
    {
      "cell_type": "markdown",
      "metadata": {},
      "source": [
        "c. KNN model"
      ]
    },
    {
      "cell_type": "code",
      "execution_count": 22,
      "metadata": {},
      "outputs": [
        {
          "data": {
            "image/png": "[encoded data removed]",
            "text/plain": [
              "<Figure size 432x288 with 2 Axes>"
            ]
          },
          "metadata": {
            "needs_background": "light"
          },
          "output_type": "display_data"
        },
        {
          "name": "stdout",
          "output_type": "stream",
          "text": [
            "Rejected offers prediction accuracy: 99.74 %\n",
            "Accepted offers prediction accuracy: 0.74 %\n"
          ]
        }
      ],
      "source": [
        "KNN_model = KNeighborsClassifier(n_neighbors=4)\n",
        "classification_model(new_df_1, 'offer_accepted', KNN_model, balance=None)"
      ]
    },
    {
      "cell_type": "markdown",
      "metadata": {},
      "source": [
        "We see that the score is only marginally higher with KNN (n=4) as opposed to the logistic regression model. We can also use different numbers of neighbors:"
      ]
    },
    {
      "cell_type": "code",
      "execution_count": 23,
      "metadata": {},
      "outputs": [
        {
          "data": {
            "image/png": "[encoded data removed]",
            "text/plain": [
              "<Figure size 432x288 with 2 Axes>"
            ]
          },
          "metadata": {
            "needs_background": "light"
          },
          "output_type": "display_data"
        },
        {
          "name": "stdout",
          "output_type": "stream",
          "text": [
            "Rejected offers prediction accuracy: 98.51 %\n",
            "Accepted offers prediction accuracy: 3.69 %\n"
          ]
        }
      ],
      "source": [
        "KNN_model = KNeighborsClassifier(n_neighbors=3)\n",
        "classification_model(new_df_1, 'offer_accepted', KNN_model, balance=None)"
      ]
    },
    {
      "cell_type": "code",
      "execution_count": 24,
      "metadata": {},
      "outputs": [
        {
          "data": {
            "image/png": "[encoded data removed]",
            "text/plain": [
              "<Figure size 432x288 with 2 Axes>"
            ]
          },
          "metadata": {
            "needs_background": "light"
          },
          "output_type": "display_data"
        },
        {
          "name": "stdout",
          "output_type": "stream",
          "text": [
            "Rejected offers prediction accuracy: 99.55 %\n",
            "Accepted offers prediction accuracy: 1.48 %\n"
          ]
        }
      ],
      "source": [
        "KNN_model = KNeighborsClassifier(n_neighbors=5)\n",
        "classification_model(new_df_1, 'offer_accepted', KNN_model, balance=None)"
      ]
    },
    {
      "cell_type": "code",
      "execution_count": 25,
      "metadata": {},
      "outputs": [
        {
          "data": {
            "image/png": "[encoded data removed]",
            "text/plain": [
              "<Figure size 432x288 with 2 Axes>"
            ]
          },
          "metadata": {
            "needs_background": "light"
          },
          "output_type": "display_data"
        },
        {
          "name": "stdout",
          "output_type": "stream",
          "text": [
            "Rejected offers prediction accuracy: 99.94 %\n",
            "Accepted offers prediction accuracy: 1.11 %\n"
          ]
        }
      ],
      "source": [
        "KNN_model = KNeighborsClassifier(n_neighbors=6)\n",
        "classification_model(new_df_1, 'offer_accepted', KNN_model, balance=None)"
      ]
    },
    {
      "cell_type": "markdown",
      "metadata": {},
      "source": [
        "We can see that the ideal number of neighbors to get a balanced accuracy would be n=3."
      ]
    },
    {
      "cell_type": "markdown",
      "metadata": {},
      "source": [
        "d. KNN model with SMOTE"
      ]
    },
    {
      "cell_type": "code",
      "execution_count": 26,
      "metadata": {},
      "outputs": [
        {
          "data": {
            "image/png": "[encoded data removed]",
            "text/plain": [
              "<Figure size 432x288 with 2 Axes>"
            ]
          },
          "metadata": {
            "needs_background": "light"
          },
          "output_type": "display_data"
        },
        {
          "name": "stdout",
          "output_type": "stream",
          "text": [
            "Rejected offers prediction accuracy: 84.18 %\n",
            "Accepted offers prediction accuracy: 30.63 %\n"
          ]
        }
      ],
      "source": [
        "KNN_model = KNeighborsClassifier(n_neighbors=3)\n",
        "classification_model(new_df_1, 'offer_accepted', KNN_model, balance=\"after\")"
      ]
    },
    {
      "cell_type": "markdown",
      "metadata": {},
      "source": [
        "The KNN classifier with SMOTE performs worse than the logistic regression model with SMOTE."
      ]
    },
    {
      "cell_type": "markdown",
      "metadata": {},
      "source": [
        "##### 4.3.2. Use a mixture of transformations on the data without excluding quarterly balances:"
      ]
    },
    {
      "cell_type": "markdown",
      "metadata": {},
      "source": [
        "##### 4.3.2.1. All transformations"
      ]
    },
    {
      "cell_type": "code",
      "execution_count": 27,
      "metadata": {},
      "outputs": [
        {
          "name": "stderr",
          "output_type": "stream",
          "text": [
            "/home/sabina/.local/lib/python3.8/site-packages/pandas/core/frame.py:4906: SettingWithCopyWarning: \n",
            "A value is trying to be set on a copy of a slice from a DataFrame\n",
            "\n",
            "See the caveats in the documentation: https://pandas.pydata.org/pandas-docs/stable/user_guide/indexing.html#returning-a-view-versus-a-copy\n",
            "  return super().drop(\n"
          ]
        }
      ],
      "source": [
        "data_2 = data.copy()\n",
        "\n",
        "# 1. Remove outliers\n",
        "data_2 = remove_outliers(data_2)\n",
        "\n",
        "# 2. Box-Cox transform\n",
        "data_2 = boxcox_transform(data_2)\n",
        "\n",
        "# 3. Scale numerical data\n",
        "num_norm_2 = normalize_data(data_2)\n",
        "\n",
        "# 4. Encode categorical data\n",
        "cat_2 = encode_cat(data_2, 'offer_accepted')\n",
        "\n",
        "# 5. Merge numerical & categorical data\n",
        "new_df_2 = new_df(num_norm_2, cat_2)"
      ]
    },
    {
      "cell_type": "code",
      "execution_count": 28,
      "metadata": {},
      "outputs": [
        {
          "data": {
            "image/png": "[encoded data removed]",
            "text/plain": [
              "<Figure size 432x288 with 2 Axes>"
            ]
          },
          "metadata": {
            "needs_background": "light"
          },
          "output_type": "display_data"
        },
        {
          "name": "stdout",
          "output_type": "stream",
          "text": [
            "Rejected offers prediction accuracy: 100.0 %\n",
            "Accepted offers prediction accuracy: 0.0 %\n"
          ]
        }
      ],
      "source": [
        "classification_model(new_df_2, 'offer_accepted', regression_model, balance=None)"
      ]
    },
    {
      "cell_type": "markdown",
      "metadata": {},
      "source": [
        "There was no change in the logistic regression results due to removal of the quarterly balances."
      ]
    },
    {
      "cell_type": "code",
      "execution_count": 29,
      "metadata": {},
      "outputs": [
        {
          "data": {
            "image/png": "[encoded data removed]",
            "text/plain": [
              "<Figure size 432x288 with 2 Axes>"
            ]
          },
          "metadata": {
            "needs_background": "light"
          },
          "output_type": "display_data"
        },
        {
          "name": "stdout",
          "output_type": "stream",
          "text": [
            "Rejected offers prediction accuracy: 69.71 %\n",
            "Accepted offers prediction accuracy: 67.78 %\n"
          ]
        }
      ],
      "source": [
        "classification_model(new_df_2, 'offer_accepted', regression_model, balance=\"after\")"
      ]
    },
    {
      "cell_type": "code",
      "execution_count": 30,
      "metadata": {},
      "outputs": [
        {
          "data": {
            "image/png": "[encoded data removed]",
            "text/plain": [
              "<Figure size 432x288 with 2 Axes>"
            ]
          },
          "metadata": {
            "needs_background": "light"
          },
          "output_type": "display_data"
        },
        {
          "name": "stdout",
          "output_type": "stream",
          "text": [
            "Rejected offers prediction accuracy: 98.98 %\n",
            "Accepted offers prediction accuracy: 2.96 %\n"
          ]
        }
      ],
      "source": [
        "KNN_model = KNeighborsClassifier(n_neighbors=3)\n",
        "classification_model(new_df_2, 'offer_accepted', KNN_model, balance=None)"
      ]
    },
    {
      "cell_type": "code",
      "execution_count": 31,
      "metadata": {},
      "outputs": [
        {
          "data": {
            "image/png": "[encoded data removed]",
            "text/plain": [
              "<Figure size 432x288 with 2 Axes>"
            ]
          },
          "metadata": {
            "needs_background": "light"
          },
          "output_type": "display_data"
        },
        {
          "name": "stdout",
          "output_type": "stream",
          "text": [
            "Rejected offers prediction accuracy: 81.18 %\n",
            "Accepted offers prediction accuracy: 35.56 %\n"
          ]
        }
      ],
      "source": [
        "KNN_model = KNeighborsClassifier(n_neighbors=3)\n",
        "classification_model(new_df_2, 'offer_accepted', KNN_model, balance=\"after\")"
      ]
    },
    {
      "cell_type": "markdown",
      "metadata": {},
      "source": [
        "We notice that both the models perform slightly better when all of the balances are included."
      ]
    },
    {
      "cell_type": "code",
      "execution_count": 37,
      "metadata": {},
      "outputs": [
        {
          "ename": "ValueError",
          "evalue": "Found input variables with inconsistent numbers of samples: [4961, 21822]",
          "output_type": "error",
          "traceback": [
            "\u001b[0;31m---------------------------------------------------------------------------\u001b[0m",
            "\u001b[0;31mValueError\u001b[0m                                Traceback (most recent call last)",
            "\u001b[0;32m/tmp/ipykernel_435226/222695118.py\u001b[0m in \u001b[0;36m<module>\u001b[0;34m\u001b[0m\n\u001b[1;32m     33\u001b[0m \u001b[0;32mfor\u001b[0m \u001b[0mprob\u001b[0m \u001b[0;32min\u001b[0m \u001b[0mprobs\u001b[0m\u001b[0;34m:\u001b[0m\u001b[0;34m\u001b[0m\u001b[0;34m\u001b[0m\u001b[0m\n\u001b[1;32m     34\u001b[0m         \u001b[0mpreds\u001b[0m \u001b[0;34m=\u001b[0m \u001b[0mprob\u001b[0m\u001b[0;34m[\u001b[0m\u001b[0;34m:\u001b[0m\u001b[0;34m,\u001b[0m \u001b[0;36m1\u001b[0m\u001b[0;34m]\u001b[0m\u001b[0;34m\u001b[0m\u001b[0;34m\u001b[0m\u001b[0m\n\u001b[0;32m---> 35\u001b[0;31m         \u001b[0mfpr\u001b[0m\u001b[0;34m,\u001b[0m \u001b[0mtpr\u001b[0m\u001b[0;34m,\u001b[0m \u001b[0mthreshold\u001b[0m \u001b[0;34m=\u001b[0m \u001b[0mmetrics\u001b[0m\u001b[0;34m.\u001b[0m\u001b[0mroc_curve\u001b[0m\u001b[0;34m(\u001b[0m\u001b[0my_test\u001b[0m\u001b[0;34m,\u001b[0m \u001b[0mpreds\u001b[0m\u001b[0;34m,\u001b[0m \u001b[0mpos_label\u001b[0m\u001b[0;34m=\u001b[0m\u001b[0;34m'Yes'\u001b[0m\u001b[0;34m)\u001b[0m\u001b[0;34m\u001b[0m\u001b[0;34m\u001b[0m\u001b[0m\n\u001b[0m\u001b[1;32m     36\u001b[0m         \u001b[0mroc_auc\u001b[0m \u001b[0;34m=\u001b[0m \u001b[0mmetrics\u001b[0m\u001b[0;34m.\u001b[0m\u001b[0mauc\u001b[0m\u001b[0;34m(\u001b[0m\u001b[0mfpr\u001b[0m\u001b[0;34m,\u001b[0m \u001b[0mtpr\u001b[0m\u001b[0;34m)\u001b[0m\u001b[0;34m\u001b[0m\u001b[0;34m\u001b[0m\u001b[0m\n\u001b[1;32m     37\u001b[0m         \u001b[0mplt\u001b[0m\u001b[0;34m.\u001b[0m\u001b[0mplot\u001b[0m\u001b[0;34m(\u001b[0m\u001b[0mfpr\u001b[0m\u001b[0;34m,\u001b[0m \u001b[0mtpr\u001b[0m\u001b[0;34m,\u001b[0m \u001b[0;34m'b'\u001b[0m\u001b[0;34m,\u001b[0m \u001b[0mlabel\u001b[0m \u001b[0;34m=\u001b[0m \u001b[0;34m'AUC = %0.2f'\u001b[0m \u001b[0;34m%\u001b[0m \u001b[0mroc_auc\u001b[0m\u001b[0;34m)\u001b[0m\u001b[0;34m\u001b[0m\u001b[0;34m\u001b[0m\u001b[0m\n",
            "\u001b[0;32m~/.local/lib/python3.8/site-packages/sklearn/metrics/_ranking.py\u001b[0m in \u001b[0;36mroc_curve\u001b[0;34m(y_true, y_score, pos_label, sample_weight, drop_intermediate)\u001b[0m\n\u001b[1;32m    960\u001b[0m \u001b[0;34m\u001b[0m\u001b[0m\n\u001b[1;32m    961\u001b[0m     \"\"\"\n\u001b[0;32m--> 962\u001b[0;31m     fps, tps, thresholds = _binary_clf_curve(\n\u001b[0m\u001b[1;32m    963\u001b[0m         \u001b[0my_true\u001b[0m\u001b[0;34m,\u001b[0m \u001b[0my_score\u001b[0m\u001b[0;34m,\u001b[0m \u001b[0mpos_label\u001b[0m\u001b[0;34m=\u001b[0m\u001b[0mpos_label\u001b[0m\u001b[0;34m,\u001b[0m \u001b[0msample_weight\u001b[0m\u001b[0;34m=\u001b[0m\u001b[0msample_weight\u001b[0m\u001b[0;34m\u001b[0m\u001b[0;34m\u001b[0m\u001b[0m\n\u001b[1;32m    964\u001b[0m     )\n",
            "\u001b[0;32m~/.local/lib/python3.8/site-packages/sklearn/metrics/_ranking.py\u001b[0m in \u001b[0;36m_binary_clf_curve\u001b[0;34m(y_true, y_score, pos_label, sample_weight)\u001b[0m\n\u001b[1;32m    731\u001b[0m         \u001b[0;32mraise\u001b[0m \u001b[0mValueError\u001b[0m\u001b[0;34m(\u001b[0m\u001b[0;34m\"{0} format is not supported\"\u001b[0m\u001b[0;34m.\u001b[0m\u001b[0mformat\u001b[0m\u001b[0;34m(\u001b[0m\u001b[0my_type\u001b[0m\u001b[0;34m)\u001b[0m\u001b[0;34m)\u001b[0m\u001b[0;34m\u001b[0m\u001b[0;34m\u001b[0m\u001b[0m\n\u001b[1;32m    732\u001b[0m \u001b[0;34m\u001b[0m\u001b[0m\n\u001b[0;32m--> 733\u001b[0;31m     \u001b[0mcheck_consistent_length\u001b[0m\u001b[0;34m(\u001b[0m\u001b[0my_true\u001b[0m\u001b[0;34m,\u001b[0m \u001b[0my_score\u001b[0m\u001b[0;34m,\u001b[0m \u001b[0msample_weight\u001b[0m\u001b[0;34m)\u001b[0m\u001b[0;34m\u001b[0m\u001b[0;34m\u001b[0m\u001b[0m\n\u001b[0m\u001b[1;32m    734\u001b[0m     \u001b[0my_true\u001b[0m \u001b[0;34m=\u001b[0m \u001b[0mcolumn_or_1d\u001b[0m\u001b[0;34m(\u001b[0m\u001b[0my_true\u001b[0m\u001b[0;34m)\u001b[0m\u001b[0;34m\u001b[0m\u001b[0;34m\u001b[0m\u001b[0m\n\u001b[1;32m    735\u001b[0m     \u001b[0my_score\u001b[0m \u001b[0;34m=\u001b[0m \u001b[0mcolumn_or_1d\u001b[0m\u001b[0;34m(\u001b[0m\u001b[0my_score\u001b[0m\u001b[0;34m)\u001b[0m\u001b[0;34m\u001b[0m\u001b[0;34m\u001b[0m\u001b[0m\n",
            "\u001b[0;32m~/.local/lib/python3.8/site-packages/sklearn/utils/validation.py\u001b[0m in \u001b[0;36mcheck_consistent_length\u001b[0;34m(*arrays)\u001b[0m\n\u001b[1;32m    330\u001b[0m     \u001b[0muniques\u001b[0m \u001b[0;34m=\u001b[0m \u001b[0mnp\u001b[0m\u001b[0;34m.\u001b[0m\u001b[0munique\u001b[0m\u001b[0;34m(\u001b[0m\u001b[0mlengths\u001b[0m\u001b[0;34m)\u001b[0m\u001b[0;34m\u001b[0m\u001b[0;34m\u001b[0m\u001b[0m\n\u001b[1;32m    331\u001b[0m     \u001b[0;32mif\u001b[0m \u001b[0mlen\u001b[0m\u001b[0;34m(\u001b[0m\u001b[0muniques\u001b[0m\u001b[0;34m)\u001b[0m \u001b[0;34m>\u001b[0m \u001b[0;36m1\u001b[0m\u001b[0;34m:\u001b[0m\u001b[0;34m\u001b[0m\u001b[0;34m\u001b[0m\u001b[0m\n\u001b[0;32m--> 332\u001b[0;31m         raise ValueError(\n\u001b[0m\u001b[1;32m    333\u001b[0m             \u001b[0;34m\"Found input variables with inconsistent numbers of samples: %r\"\u001b[0m\u001b[0;34m\u001b[0m\u001b[0;34m\u001b[0m\u001b[0m\n\u001b[1;32m    334\u001b[0m             \u001b[0;34m%\u001b[0m \u001b[0;34m[\u001b[0m\u001b[0mint\u001b[0m\u001b[0;34m(\u001b[0m\u001b[0ml\u001b[0m\u001b[0;34m)\u001b[0m \u001b[0;32mfor\u001b[0m \u001b[0ml\u001b[0m \u001b[0;32min\u001b[0m \u001b[0mlengths\u001b[0m\u001b[0;34m]\u001b[0m\u001b[0;34m\u001b[0m\u001b[0;34m\u001b[0m\u001b[0m\n",
            "\u001b[0;31mValueError\u001b[0m: Found input variables with inconsistent numbers of samples: [4961, 21822]"
          ]
        },
        {
          "data": {
            "image/png": "[encoded data removed]",
            "text/plain": [
              "<Figure size 432x288 with 1 Axes>"
            ]
          },
          "metadata": {
            "needs_background": "light"
          },
          "output_type": "display_data"
        }
      ],
      "source": [
        "import sklearn.metrics as metrics\n",
        "\n",
        "# Add test datasets\n",
        "y = new_df_1['offer_accepted']\n",
        "X = new_df_1.drop('offer_accepted', axis=1)\n",
        "\n",
        "X_train, X_test, y_train, y_test = train_test_split(X, y, \\\n",
        "        test_size=0.3, random_state=42)\n",
        "X_sm, y_sm = SMOTE().fit_resample(X_train, y_train)\n",
        "\n",
        "# Add models\n",
        "regression_model_1 = LogisticRegression(random_state=0, multi_class='ovr')\n",
        "regression_model_1.fit(X_train, y_train)\n",
        "\n",
        "regression_model_2 = LogisticRegression(random_state=0, multi_class='ovr')\n",
        "regression_model_2.fit(X_sm, y_sm)\n",
        "\n",
        "KNN_model_1 = KNeighborsClassifier(n_neighbors=3)\n",
        "KNN_model_1.fit(X_train, y_train)\n",
        "\n",
        "KNN_model_2 = KNeighborsClassifier(n_neighbors=3)\n",
        "KNN_model_2.fit(X_sm, y_sm)\n",
        "\n",
        "\n",
        "# calculate the fpr and tpr for all thresholds of the classification\n",
        "probs_1 = regression_model_1.predict(X_test)\n",
        "probs_2 = regression_model_2.predict_proba(X_sm)\n",
        "probs_3 = KNN_model_1.predict_proba(X_test)\n",
        "probs_4 = KNN_model_2.predict_proba(X_sm)\n",
        "\n",
        "probs = [probs_1, probs_2, probs_3, probs_4]\n",
        "\n",
        "for prob in probs:\n",
        "        preds = prob[:, 1]\n",
        "        fpr, tpr, threshold = metrics.roc_curve(y_test, preds, pos_label='Yes')\n",
        "        roc_auc = metrics.auc(fpr, tpr) \n",
        "        plt.plot(fpr, tpr, 'b', label = 'AUC = %0.2f' % roc_auc)\n",
        "\n",
        "plt.title('Receiver Operating Characteristic')\n",
        "plt.legend(loc = 'lower right')\n",
        "plt.plot([0, 1], [0, 1],'r--')\n",
        "plt.xlim([0, 1])\n",
        "plt.ylim([0, 1])\n",
        "plt.ylabel('True Positive Rate')\n",
        "plt.xlabel('False Positive Rate')\n",
        "plt.show()"
      ]
    }
  ],
  "metadata": {
    "colab": {
      "collapsed_sections": [],
      "name": "mini-project - 3. Modelling & Evaluation.ipynb",
      "provenance": []
    },
    "interpreter": {
      "hash": "916dbcbb3f70747c44a77c7bcd40155683ae19c65e1c03b4aa3499c5328201f1"
    },
    "kernelspec": {
      "display_name": "Python 3.8.10 64-bit",
      "language": "python",
      "name": "python3"
    },
    "language_info": {
      "codemirror_mode": {
        "name": "ipython",
        "version": 3
      },
      "file_extension": ".py",
      "mimetype": "text/x-python",
      "name": "python",
      "nbconvert_exporter": "python",
      "pygments_lexer": "ipython3",
      "version": "3.8.10"
    },
    "orig_nbformat": 4
  },
  "nbformat": 4,
  "nbformat_minor": 0
}
